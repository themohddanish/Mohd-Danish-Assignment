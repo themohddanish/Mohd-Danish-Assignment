{
  "nbformat": 4,
  "nbformat_minor": 0,
  "metadata": {
    "colab": {
      "provenance": []
    },
    "kernelspec": {
      "name": "python3",
      "display_name": "Python 3"
    },
    "language_info": {
      "name": "python"
    }
  },
  "cells": [
    {
      "cell_type": "markdown",
      "source": [
        "# Assignment : Inbuilt Strings\n",
        "\n",
        "# Ques 1.What is the purpose of the len() function in Python, and how can it be used with strings?\n",
        "\n",
        "# Purpose of the len() Function in Python\n",
        "\n",
        "The len() function is used to determine the number of elements in a collection, such as a string, list, tuple, dictionary, or set.\n",
        "\n",
        "# Using len() with Strings\n",
        "When used with strings, len() returns the number of characters in the string, including spaces, special characters, and punctuation.\n",
        "\n",
        "\n",
        "# Examples"
      ],
      "metadata": {
        "id": "v0lwlDYFvAej"
      }
    },
    {
      "cell_type": "code",
      "execution_count": 1,
      "metadata": {
        "colab": {
          "base_uri": "https://localhost:8080/"
        },
        "id": "w7quYonvu3Zi",
        "outputId": "a8b0460d-f1f6-45a7-8761-a390bd42bab5"
      },
      "outputs": [
        {
          "output_type": "stream",
          "name": "stdout",
          "text": [
            "13\n"
          ]
        }
      ],
      "source": [
        "# Example with a string\n",
        "text = \"Hello, World!\"\n",
        "print(len(text))  # Output: 13\n"
      ]
    },
    {
      "cell_type": "markdown",
      "source": [
        "# Ques 2. How can you concatenate two or more strings in Python, and can you provide an example of string concatenation?\n",
        "\n",
        "\n",
        "# Concatenating Strings in Python\n",
        "* In Python, you can concatenate (join) two or more strings using:\n",
        "\n",
        "1. The + Operator:\n",
        "  * Directly adds strings together.\n",
        "2. The join() Method:\n",
        "  * Efficient for joining multiple strings, especially in loops.\n",
        "3. Formatted Strings (f-strings):\n",
        "  * Embed variables and expressions into a single string.\n",
        "\n",
        "# Examples\n",
        "1. Using the + Operator:"
      ],
      "metadata": {
        "id": "2k4zRbZzwtGV"
      }
    },
    {
      "cell_type": "code",
      "source": [
        "str1 = \"Hello\"\n",
        "str2 = \"World\"\n",
        "result = str1 + \" \" + str2\n",
        "print(result)  # Output: Hello World\n"
      ],
      "metadata": {
        "colab": {
          "base_uri": "https://localhost:8080/"
        },
        "id": "eSh7B_xHyFh5",
        "outputId": "59b3dab6-eddb-4fc3-8581-d7ee6c033ed1"
      },
      "execution_count": 2,
      "outputs": [
        {
          "output_type": "stream",
          "name": "stdout",
          "text": [
            "Hello World\n"
          ]
        }
      ]
    },
    {
      "cell_type": "markdown",
      "source": [
        "2. Using the join() Method:"
      ],
      "metadata": {
        "id": "f3T2eLoKyHrQ"
      }
    },
    {
      "cell_type": "code",
      "source": [
        "words = [\"Python\", \"is\", \"awesome\"]\n",
        "result = \" \".join(words)\n",
        "print(result)  # Output: Python is awesome\n"
      ],
      "metadata": {
        "colab": {
          "base_uri": "https://localhost:8080/"
        },
        "id": "nEdpGoOmyOrd",
        "outputId": "fec40544-7a35-4d08-f3c1-7cda33703ae2"
      },
      "execution_count": 3,
      "outputs": [
        {
          "output_type": "stream",
          "name": "stdout",
          "text": [
            "Python is awesome\n"
          ]
        }
      ]
    },
    {
      "cell_type": "markdown",
      "source": [
        "3. Using f-strings:"
      ],
      "metadata": {
        "id": "2cZ6PbQDyT9M"
      }
    },
    {
      "cell_type": "code",
      "source": [
        "name = \"Alice\"\n",
        "greeting = f\"Hello, {name}!\"\n",
        "print(greeting)  # Output: Hello, Alice!\n"
      ],
      "metadata": {
        "colab": {
          "base_uri": "https://localhost:8080/"
        },
        "id": "c0ielr-CyStV",
        "outputId": "f2f6aa33-f839-48c0-c880-17744c8e08a0"
      },
      "execution_count": 4,
      "outputs": [
        {
          "output_type": "stream",
          "name": "stdout",
          "text": [
            "Hello, Alice!\n"
          ]
        }
      ]
    },
    {
      "cell_type": "markdown",
      "source": [
        "# What is string slicing in Python, and how can you extract a portion of a string using this method?\n",
        "\n",
        "# String Slicing in Python\n",
        "  * String slicing in Python allows you to extract a portion (substring) of a string by specifying a start index, end index, and an optional step. It works using the following syntax:\n",
        "\n",
        "  * string[start:end:step]\n",
        "\n",
        " * start: The index where the slice begins (inclusive).\n",
        " * end: The index where the slice ends (exclusive).\n",
        " * step: Optional, defines the step between each index (defaults to 1).\n",
        "\n",
        "# Examples of String Slicing\n",
        "1. Extract a Substring (Start and End Indices):\n",
        "\n"
      ],
      "metadata": {
        "id": "hxZG-XkDykLd"
      }
    },
    {
      "cell_type": "code",
      "source": [
        "text = \"Hello, World!\"\n",
        "# Extract characters from index 0 to 4 (Hello)\n",
        "substring = text[0:5]\n",
        "print(substring)  # Output: Hello\n"
      ],
      "metadata": {
        "colab": {
          "base_uri": "https://localhost:8080/"
        },
        "id": "O8HsQqFpz3Py",
        "outputId": "9725cb5c-67a9-4a8b-c989-622290242ee3"
      },
      "execution_count": 6,
      "outputs": [
        {
          "output_type": "stream",
          "name": "stdout",
          "text": [
            "Hello\n"
          ]
        }
      ]
    },
    {
      "cell_type": "markdown",
      "source": [
        "2. Omit the Start or End Index:\n",
        " * If the start is omitted, it defaults to 0.\n",
        " * If the end is omitted, it defaults to the end of the string.\n",
        "\n"
      ],
      "metadata": {
        "id": "nyu7J7X1z7a7"
      }
    },
    {
      "cell_type": "code",
      "source": [
        "text = \"Hello, World!\"\n",
        "# Extract from the beginning to index 4 (Hello)\n",
        "substring = text[:5]\n",
        "print(substring)  # Output: Hello\n",
        "\n",
        "# Extract from index 7 to the end (World!)\n",
        "substring = text[7:]\n",
        "print(substring)  # Output: World!\n"
      ],
      "metadata": {
        "colab": {
          "base_uri": "https://localhost:8080/"
        },
        "id": "QqsE1dZj0Mu5",
        "outputId": "8dc5522a-95b6-49da-cc2b-4128492b5409"
      },
      "execution_count": 7,
      "outputs": [
        {
          "output_type": "stream",
          "name": "stdout",
          "text": [
            "Hello\n",
            "World!\n"
          ]
        }
      ]
    },
    {
      "cell_type": "markdown",
      "source": [
        "3. Using a Step:"
      ],
      "metadata": {
        "id": "6-tVnRAR0PMZ"
      }
    },
    {
      "cell_type": "code",
      "source": [
        "text = \"Hello, World!\"\n",
        "# Extract every second character from the string\n",
        "substring = text[::2]\n",
        "print(substring)  # Output: Hlo ol!\n",
        "\n"
      ],
      "metadata": {
        "colab": {
          "base_uri": "https://localhost:8080/"
        },
        "id": "Pin1zvAs0Sru",
        "outputId": "1a6f2a9d-0063-44b1-d8f0-d35fb8cc7798"
      },
      "execution_count": 8,
      "outputs": [
        {
          "output_type": "stream",
          "name": "stdout",
          "text": [
            "Hlo ol!\n"
          ]
        }
      ]
    },
    {
      "cell_type": "markdown",
      "source": [
        "# Ques 4.How can you change the case of a string in Python, and can you provide examples of both making a string all uppercase and all lowercase?\n",
        "\n",
        "# Changing the Case of a String in Python\n",
        "Python provides built-in methods to change the case of a string:\n",
        "\n",
        "1. upper(): Converts all characters in a string to uppercase.\n",
        "2. lower(): Converts all characters in a string to lowercase.\n",
        "3. title(): Converts the first letter of each word to uppercase and the rest to lowercase.\n",
        "4. capitalize(): Converts the first letter of the string to uppercase and the rest to lowercase.\n",
        "\n",
        "# Examples\n",
        "1. Converting to Uppercase:"
      ],
      "metadata": {
        "id": "iKlmhgpJ0cuG"
      }
    },
    {
      "cell_type": "code",
      "source": [
        "text = \"Hello, World!\"\n",
        "uppercase_text = text.upper()\n",
        "print(uppercase_text)  # Output: HELLO, WORLD!\n"
      ],
      "metadata": {
        "colab": {
          "base_uri": "https://localhost:8080/"
        },
        "id": "5IcGjl-I0VDR",
        "outputId": "147546fe-93ec-49a6-b741-696c5dd17dcc"
      },
      "execution_count": 9,
      "outputs": [
        {
          "output_type": "stream",
          "name": "stdout",
          "text": [
            "HELLO, WORLD!\n"
          ]
        }
      ]
    },
    {
      "cell_type": "markdown",
      "source": [
        "2. Converting to Lowercase:"
      ],
      "metadata": {
        "id": "RaZK43sz2KLz"
      }
    },
    {
      "cell_type": "code",
      "source": [
        "text = \"Hello, World!\"\n",
        "lowercase_text = text.lower()\n",
        "print(lowercase_text)  # Output: hello, world!\n"
      ],
      "metadata": {
        "colab": {
          "base_uri": "https://localhost:8080/"
        },
        "id": "Ud1id2fZ2Qx-",
        "outputId": "2dbce5d1-ccfd-4d8a-8fff-bf6ba7dd6920"
      },
      "execution_count": 10,
      "outputs": [
        {
          "output_type": "stream",
          "name": "stdout",
          "text": [
            "hello, world!\n"
          ]
        }
      ]
    },
    {
      "cell_type": "markdown",
      "source": [
        "3. Using title() (Each Word Capitalized):"
      ],
      "metadata": {
        "id": "_ewmp4x-2PpG"
      }
    },
    {
      "cell_type": "code",
      "source": [
        "text = \"hello, world!\"\n",
        "title_text = text.title()\n",
        "print(title_text)  # Output: Hello, World!\n"
      ],
      "metadata": {
        "colab": {
          "base_uri": "https://localhost:8080/"
        },
        "id": "9sPoF9052Xxb",
        "outputId": "02370fe8-0135-4399-f7be-d4593ceb0377"
      },
      "execution_count": 11,
      "outputs": [
        {
          "output_type": "stream",
          "name": "stdout",
          "text": [
            "Hello, World!\n"
          ]
        }
      ]
    },
    {
      "cell_type": "markdown",
      "source": [
        "4. Using capitalize() (First Letter Capitalized):"
      ],
      "metadata": {
        "id": "T3XVtYhL2aPo"
      }
    },
    {
      "cell_type": "code",
      "source": [
        "text = \"hello, world!\"\n",
        "capitalized_text = text.capitalize()\n",
        "print(capitalized_text)  # Output: Hello, world!\n"
      ],
      "metadata": {
        "colab": {
          "base_uri": "https://localhost:8080/"
        },
        "id": "uIFU0z7T2eUY",
        "outputId": "0657ecf3-b985-447a-adc8-86c7d2ff4e77"
      },
      "execution_count": 12,
      "outputs": [
        {
          "output_type": "stream",
          "name": "stdout",
          "text": [
            "Hello, world!\n"
          ]
        }
      ]
    },
    {
      "cell_type": "markdown",
      "source": [
        "# Ques 5.What does the split() method do in Python, and how can you split a string using a specific delimiter?\n",
        "\n",
        "# The split() Method in Python\n",
        "The split() method in Python is used to split a string into a list of substrings based on a specified delimiter. By default, it splits the string at whitespace characters, but you can provide a custom delimiter if needed.\n",
        "\n",
        "\n",
        "# Syntax:\n",
        "\n",
        "string.split(delimiter, maxsplit)\n",
        "\n",
        "* delimiter: The character or substring at which to split (default is whitespace).\n",
        "* maxsplit: The maximum number of splits to perform (default is -1, meaning no limit).\n",
        "\n",
        "# Examples\n",
        "1. Splitting by Whitespace (default behavior):\n",
        "\n"
      ],
      "metadata": {
        "id": "5goCVju82oyy"
      }
    },
    {
      "cell_type": "code",
      "source": [
        "text = \"Hello World Python\"\n",
        "words = text.split()\n",
        "print(words)  # Output: ['Hello', 'World', 'Python']\n"
      ],
      "metadata": {
        "colab": {
          "base_uri": "https://localhost:8080/"
        },
        "id": "Fpt2o-cP4EGW",
        "outputId": "f431cd20-e92d-4dd9-d888-f0dcf8d0dabe"
      },
      "execution_count": 14,
      "outputs": [
        {
          "output_type": "stream",
          "name": "stdout",
          "text": [
            "['Hello', 'World', 'Python']\n"
          ]
        }
      ]
    },
    {
      "cell_type": "markdown",
      "source": [
        "2. Splitting by a Specific Delimiter:\n",
        "\n",
        "   You can specify a custom delimiter, such as a comma or any other character.\n",
        "\n",
        "\n"
      ],
      "metadata": {
        "id": "WdIGwCGt4GDy"
      }
    },
    {
      "cell_type": "code",
      "source": [
        "text = \"apple,banana,cherry\"\n",
        "fruits = text.split(\",\")\n",
        "print(fruits)  # Output: ['apple', 'banana', 'cherry']\n"
      ],
      "metadata": {
        "colab": {
          "base_uri": "https://localhost:8080/"
        },
        "id": "elSFvgim4WvB",
        "outputId": "6d75f53e-4d31-4c28-a746-6f37ff90f680"
      },
      "execution_count": 15,
      "outputs": [
        {
          "output_type": "stream",
          "name": "stdout",
          "text": [
            "['apple', 'banana', 'cherry']\n"
          ]
        }
      ]
    },
    {
      "cell_type": "markdown",
      "source": [
        "3. Splitting with maxsplit:\n",
        "\n",
        "  You can limit the number of splits performed."
      ],
      "metadata": {
        "id": "wjRZbXQW4ezK"
      }
    },
    {
      "cell_type": "code",
      "source": [
        "text = \"apple,banana,cherry,dates\"\n",
        "fruits = text.split(\",\", 2)\n",
        "print(fruits)  # Output: ['apple', 'banana', 'cherry,dates']\n"
      ],
      "metadata": {
        "colab": {
          "base_uri": "https://localhost:8080/"
        },
        "id": "JsahtRQk4jjS",
        "outputId": "8088eb3e-d43f-4525-8b28-583d10c94eee"
      },
      "execution_count": 16,
      "outputs": [
        {
          "output_type": "stream",
          "name": "stdout",
          "text": [
            "['apple', 'banana', 'cherry,dates']\n"
          ]
        }
      ]
    }
  ]
}