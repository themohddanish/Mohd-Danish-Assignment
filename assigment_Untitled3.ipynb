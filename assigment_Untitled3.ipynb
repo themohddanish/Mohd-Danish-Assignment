{
  "nbformat": 4,
  "nbformat_minor": 0,
  "metadata": {
    "colab": {
      "provenance": []
    },
    "kernelspec": {
      "name": "python3",
      "display_name": "Python 3"
    },
    "language_info": {
      "name": "python"
    }
  },
  "cells": [
    {
      "cell_type": "markdown",
      "source": [
        "Python Keywords,\n",
        "Identifiers, Comments,\n",
        "\n",
        "Indentation and\n",
        "Statements\n"
      ],
      "metadata": {
        "id": "tJRGADOu7dqh"
      }
    },
    {
      "cell_type": "markdown",
      "source": [
        "# ques 1.Explain the significance of Python keywords and provide examples of five keywords.\n",
        "\n",
        "# 1. Significance of Python Keywords:\n",
        "\n",
        "Python keywords are fundamental building blocks of the Python language. They serve specific purposes and are essential for writing syntactically correct and meaningful code. These reserved words have predefined meanings and cannot be used as identifiers (e.g., variable or function names). Keywords define the structure and flow of Python programs, such as control flow, data type handling, and function definition.\n",
        "\n",
        "\n",
        "# Key Roles of Python Keywords :\n",
        "\n",
        "1. Control Program Flow: Keywords like if, else, for, and while manage decision-making and looping.\n",
        "\n",
        "2. Define Scope and Functions: Keywords like, def and class define functions and classes, structuring the program.\n",
        "\n",
        "3. Handle Errors and Exceptions: Keywords like try, except, and finally manage error handling and ensure smooth execution.\n",
        "\n",
        "4. Logical Operations: Keywords like and, or, and not enable logical comparisons.\n",
        "\n",
        "5. Type Declaration and Management: Keywords like True, False, and None represent specific values.\n",
        "\n",
        "# Examples of Five Keywords:\n",
        "\n",
        "1. if\n",
        "Used for decision-making by executing a block of code based on a condition.\n",
        "\n"
      ],
      "metadata": {
        "id": "sZUKuaq_91cp"
      }
    },
    {
      "cell_type": "code",
      "source": [
        "x = 10\n",
        "if x > 5:\n",
        "    print(\"x is greater than 5\")\n"
      ],
      "metadata": {
        "colab": {
          "base_uri": "https://localhost:8080/"
        },
        "id": "ysbPpb04_WXw",
        "outputId": "762fc410-fa40-48ff-afe5-6d0740b72967"
      },
      "execution_count": null,
      "outputs": [
        {
          "output_type": "stream",
          "name": "stdout",
          "text": [
            "x is greater than 5\n"
          ]
        }
      ]
    },
    {
      "cell_type": "code",
      "source": [],
      "metadata": {
        "id": "sjzG-kK9-iIR"
      },
      "execution_count": null,
      "outputs": []
    },
    {
      "cell_type": "markdown",
      "source": [
        "2. for\n",
        "Used to iterate over a sequence (like lists, tuples, or strings).\n",
        "\n"
      ],
      "metadata": {
        "id": "b5ZGOkm4_eUl"
      }
    },
    {
      "cell_type": "code",
      "source": [
        "for i in range(3):\n",
        "    print(i)  # Outputs: 0, 1, 2\n",
        "\n"
      ],
      "metadata": {
        "colab": {
          "base_uri": "https://localhost:8080/"
        },
        "id": "_ViKI07N_rGI",
        "outputId": "248d73bb-73f4-4162-90cb-d2c47483d025"
      },
      "execution_count": null,
      "outputs": [
        {
          "output_type": "stream",
          "name": "stdout",
          "text": [
            "0\n",
            "1\n",
            "2\n"
          ]
        }
      ]
    },
    {
      "cell_type": "code",
      "source": [],
      "metadata": {
        "id": "AXW8toAa_wVK"
      },
      "execution_count": null,
      "outputs": []
    },
    {
      "cell_type": "markdown",
      "source": [
        "3. def\n",
        "Used to define a function.\n",
        "\n"
      ],
      "metadata": {
        "id": "MDwOLjnS_1P4"
      }
    },
    {
      "cell_type": "code",
      "source": [
        "def greet(name):\n",
        "    return f\"Hello, {name}!\"\n",
        "print(greet(\"Alice\"))\n",
        "\n"
      ],
      "metadata": {
        "colab": {
          "base_uri": "https://localhost:8080/"
        },
        "id": "Rb76VNRNAAeO",
        "outputId": "fce1fe4f-3630-4098-9a8e-2ff82b4abb9d"
      },
      "execution_count": null,
      "outputs": [
        {
          "output_type": "stream",
          "name": "stdout",
          "text": [
            "Hello, Alice!\n"
          ]
        }
      ]
    },
    {
      "cell_type": "code",
      "source": [],
      "metadata": {
        "id": "LEN-s3fnADmi"
      },
      "execution_count": null,
      "outputs": []
    },
    {
      "cell_type": "markdown",
      "source": [
        "4. import\n",
        "Used to include modules and libraries.\n"
      ],
      "metadata": {
        "id": "LyVg9t-nAPsL"
      }
    },
    {
      "cell_type": "code",
      "source": [
        "import math\n",
        "print(math.sqrt(16))  # Outputs: 4.0\n"
      ],
      "metadata": {
        "colab": {
          "base_uri": "https://localhost:8080/"
        },
        "id": "Hfs5x2ABAX86",
        "outputId": "4b232d1f-9cee-4b70-fdf1-eaebf8407549"
      },
      "execution_count": null,
      "outputs": [
        {
          "output_type": "stream",
          "name": "stdout",
          "text": [
            "4.0\n"
          ]
        }
      ]
    },
    {
      "cell_type": "markdown",
      "source": [
        "5. return\n",
        "Used to send a value back from a function.\n"
      ],
      "metadata": {
        "id": "MyokB0PbAUVc"
      }
    },
    {
      "cell_type": "code",
      "source": [
        "def add(a, b):\n",
        "    return a + b\n",
        "print(add(3, 4))  # Outputs: 7\n"
      ],
      "metadata": {
        "colab": {
          "base_uri": "https://localhost:8080/"
        },
        "id": "LHK6VxCKAgbq",
        "outputId": "ac811c1e-1906-46dc-9027-11dd8cae5899"
      },
      "execution_count": null,
      "outputs": [
        {
          "output_type": "stream",
          "name": "stdout",
          "text": [
            "7\n"
          ]
        }
      ]
    },
    {
      "cell_type": "code",
      "source": [],
      "metadata": {
        "id": "hR5pB8zqAi9w"
      },
      "execution_count": null,
      "outputs": []
    },
    {
      "cell_type": "markdown",
      "source": [
        "# Ques 2. Describe the rules for defining identifiers in Python and provide an example?\n",
        "\n",
        "# Rules for Defining Identifiers in Python:\n",
        "\n",
        "Identifiers in Python are the names given to variables, functions, classes, or other objects to identify them uniquely. They must follow specific rules:\n",
        "\n",
        "1. Start with a Letter or Underscore;\n",
        "\n",
        "An identifier must begin with a letter (A-Z or a-z) or an underscore (_).\n",
        "\n",
        "It cannot start with a digit.\n",
        "\n"
      ],
      "metadata": {
        "id": "j4jiXAuZBjtB"
      }
    },
    {
      "cell_type": "code",
      "source": [
        "valid_name = 10  # Valid\n",
        "_hidden_var = 20  # Valid\n",
        "#1st_value = 30  # Invalid (starts with a digit)\n"
      ],
      "metadata": {
        "id": "AeYkGmMvDgZ5"
      },
      "execution_count": null,
      "outputs": []
    },
    {
      "cell_type": "markdown",
      "source": [
        "2. Followed by Letters, Digits, or Underscores\n",
        "..After the first character, the identifier can contain letters, digits (0-9), or underscores.\n"
      ],
      "metadata": {
        "id": "sjWO-PSXDyfS"
      }
    },
    {
      "cell_type": "code",
      "source": [
        "name1 = \"John\"  # Valid\n",
        "data_2023 = \"Year\"  # Valid\n",
        "#first-name = \"Doe\"  # Invalid (contains a hyphen)\n"
      ],
      "metadata": {
        "id": "3xW6rfxiECZT"
      },
      "execution_count": null,
      "outputs": []
    },
    {
      "cell_type": "markdown",
      "source": [
        "3. Cannot Be a Keyword\n",
        "..Python keywords (like if, def, class, while, etc.) cannot be used as identifiers."
      ],
      "metadata": {
        "id": "fa-NDm_PEJ9g"
      }
    },
    {
      "cell_type": "code",
      "source": [
        "#def = 100  # Invalid (def is a keyword)\n",
        "\n"
      ],
      "metadata": {
        "id": "ztVw7pV8YXfB"
      },
      "execution_count": 3,
      "outputs": []
    },
    {
      "cell_type": "markdown",
      "source": [
        "4. Case-Sensitive\n",
        "..Identifiers are case-sensitive, meaning variable and Variable are treated as different identifiers.\n",
        "\n"
      ],
      "metadata": {
        "id": "Cmzt5_feYyLg"
      }
    },
    {
      "cell_type": "code",
      "source": [
        "var = 10\n",
        "Var = 20\n",
        "print(var)  # Outputs: 10\n",
        "print(Var)  # Outputs: 20\n"
      ],
      "metadata": {
        "colab": {
          "base_uri": "https://localhost:8080/"
        },
        "id": "zyZbqxZ-Y5Wy",
        "outputId": "67c8877b-5632-4491-b3cc-fc748c7f8ed1"
      },
      "execution_count": 4,
      "outputs": [
        {
          "output_type": "stream",
          "name": "stdout",
          "text": [
            "10\n",
            "20\n"
          ]
        }
      ]
    },
    {
      "cell_type": "markdown",
      "source": [
        "5. No Special Characters\n",
        "..Identifiers cannot contain special characters like @, #, $, %, etc.\n",
        "\n"
      ],
      "metadata": {
        "id": "0xl5bUEUZI9C"
      }
    },
    {
      "cell_type": "code",
      "source": [
        "#my@var = 10  # Invalid\n"
      ],
      "metadata": {
        "id": "31N5x_HJZOUk"
      },
      "execution_count": 5,
      "outputs": []
    },
    {
      "cell_type": "markdown",
      "source": [
        "# Example of a Valid Identifier"
      ],
      "metadata": {
        "id": "D74SoyCqZodP"
      }
    },
    {
      "cell_type": "code",
      "source": [
        "# Defining identifiers\n",
        "user_name = \"Alice\"\n",
        "age = 25\n",
        "\n",
        "def display_info():\n",
        "    print(f\"Name: {user_name}, Age: {age}\")\n",
        "\n",
        "# Using the identifiers\n",
        "display_info()\n"
      ],
      "metadata": {
        "colab": {
          "base_uri": "https://localhost:8080/"
        },
        "id": "KxP6oCwkZShM",
        "outputId": "08a81ae6-8a16-44f9-9f84-d55272925997"
      },
      "execution_count": 6,
      "outputs": [
        {
          "output_type": "stream",
          "name": "stdout",
          "text": [
            "Name: Alice, Age: 25\n"
          ]
        }
      ]
    },
    {
      "cell_type": "markdown",
      "source": [
        "# Ques 3. What are comments in Python, and why are they useful? Provide an example.\n",
        "\n",
        "# [What Are Comments in Python?]\n",
        "\n",
        "Comments in Python are lines of text within the code that are ignored by the Python interpreter during execution. They are used to explain the code, document functionality, and make the program more readable and maintainable.\n",
        "\n",
        "# Why Are Comments Useful?\n",
        "\n",
        "1. Enhance Readability: Comments make complex code easier to understand by describing what the code does.\n",
        "2. Facilitate Collaboration: Helpful when multiple developers are working on the same project.\n",
        "3. Debugging Aid: Comments can indicate why certain logic or code structure was used.\n",
        "4. Documentation: Explains the purpose, usage, and behavior of the code for future reference.\n",
        "\n",
        "# Types of Comments in Python\n",
        "\n",
        "1. Single-Line Comments\n",
        "Start with the # symbol and extend to the end of the line."
      ],
      "metadata": {
        "id": "7Vcrv8o6aEhA"
      }
    },
    {
      "cell_type": "code",
      "source": [
        "# This is a single-line comment\n",
        "x = 5  # Assigning 5 to variable x"
      ],
      "metadata": {
        "id": "bceOT_zMbb4C"
      },
      "execution_count": 8,
      "outputs": []
    },
    {
      "cell_type": "markdown",
      "source": [
        "2. Multi-Line Comments\n",
        "Python doesn’t have a specific multi-line comment syntax, but triple quotes (''' or \"\"\") are commonly used."
      ],
      "metadata": {
        "id": "yozJl5M3bp4A"
      }
    },
    {
      "cell_type": "code",
      "source": [
        "\"\"\"\n",
        "This is a multi-line comment.\n",
        "It can span multiple lines.\n",
        "Useful for longer explanations.\n",
        "\"\"\"\n",
        "y = 10\n"
      ],
      "metadata": {
        "id": "fGrX4AE26qOF"
      },
      "execution_count": 2,
      "outputs": []
    },
    {
      "cell_type": "markdown",
      "source": [
        "# Example: Using Comments in Python"
      ],
      "metadata": {
        "id": "4ySnB_iU7X1d"
      }
    },
    {
      "cell_type": "code",
      "source": [
        "# This function calculates the factorial of a number\n",
        "def factorial(n):\n",
        "    \"\"\"\n",
        "    Calculate the factorial of a given number n.\n",
        "\n",
        "    Parameters:\n",
        "    n (int): The number to calculate the factorial for.\n",
        "\n",
        "    Returns:\n",
        "    int: The factorial of the number n.\n",
        "    \"\"\"\n",
        "    if n == 0:\n",
        "        return 1  # Base case: factorial of 0 is 1\n",
        "    else:\n",
        "        return n * factorial(n - 1)  # Recursive case\n",
        "\n",
        "# Example usage\n",
        "print(factorial(5))  # Outputs: 120\n",
        "\n"
      ],
      "metadata": {
        "colab": {
          "base_uri": "https://localhost:8080/"
        },
        "id": "PVmH0VOd753i",
        "outputId": "ab868220-375a-486c-fe0d-4f5f6d1987b5"
      },
      "execution_count": 3,
      "outputs": [
        {
          "output_type": "stream",
          "name": "stdout",
          "text": [
            "120\n"
          ]
        }
      ]
    },
    {
      "cell_type": "markdown",
      "source": [
        "# Ques 4. Why Is Proper Indentation Important in Python?\n",
        "\n",
        "In Python, indentation is not just a matter of style; it is a fundamental part of the language's syntax. Unlike many other programming languages that use braces ({}) or keywords to define code blocks, Python uses indentation to delineate blocks of code. Proper indentation is crucial because it directly affects the structure, logic, and execution of the program.\n",
        "\n",
        "# Reasons Why Indentation Is Important\n",
        "\n",
        "# 1. Defines Code Blocks\n",
        "\n",
        ".Indentation is used to define the boundaries of loops, conditional statements, functions, classes, and other code blocks.\n",
        "\n",
        ".Without proper indentation, Python cannot determine where a block of code starts and ends.\n",
        "\n"
      ],
      "metadata": {
        "id": "JkkZL5_XCHJ_"
      }
    },
    {
      "cell_type": "code",
      "source": [
        "if True:\n",
        "    print(\"Indented block\")\n",
        "# Output: Indented block\n"
      ],
      "metadata": {
        "colab": {
          "base_uri": "https://localhost:8080/"
        },
        "id": "7hMyzqY5CSuv",
        "outputId": "248dc220-073a-4e1f-e852-779f79f00da4"
      },
      "execution_count": 4,
      "outputs": [
        {
          "output_type": "stream",
          "name": "stdout",
          "text": [
            "Indented block\n"
          ]
        }
      ]
    },
    {
      "cell_type": "markdown",
      "source": [
        "# 2. Prevents Syntax Errors\n",
        "\n",
        "Improper or inconsistent indentation raises a SyntaxError, halting the execution of the program.\n",
        "\n"
      ],
      "metadata": {
        "id": "5WITxtnPCuN4"
      }
    },
    {
      "cell_type": "code",
      "source": [
        "#if True:\n",
        "print(\"This will raise an IndentationError\")\n"
      ],
      "metadata": {
        "colab": {
          "base_uri": "https://localhost:8080/"
        },
        "id": "TbLgEuT_C485",
        "outputId": "db38eced-c79f-4edf-ad4c-04ed4f3a851d"
      },
      "execution_count": 6,
      "outputs": [
        {
          "output_type": "stream",
          "name": "stdout",
          "text": [
            "This will raise an IndentationError\n"
          ]
        }
      ]
    },
    {
      "cell_type": "markdown",
      "source": [
        "# 3. Enhances Readability\n",
        "\n",
        "Properly indented code is easier to read, understand, and debug, especially in large projects or when working collaboratively."
      ],
      "metadata": {
        "id": "4vsiYKDLDafK"
      }
    },
    {
      "cell_type": "code",
      "source": [
        "def add_numbers(a, b):\n",
        "    result = a + b  # Indented block inside function\n",
        "    return result\n"
      ],
      "metadata": {
        "id": "fjlhNyxrDfrY"
      },
      "execution_count": 7,
      "outputs": []
    },
    {
      "cell_type": "markdown",
      "source": [
        "# 4. Enforces Consistency\n",
        "\n",
        "Python's reliance on indentation enforces consistent formatting practices, which contribute to cleaner and more professional code.\n",
        "\n",
        "# 5. Aids Logical Flow\n",
        "\n",
        "Proper indentation ensures the program's logical flow is clear, avoiding unintended behavior or bugs."
      ],
      "metadata": {
        "id": "qL0ITHqmDjxr"
      }
    },
    {
      "cell_type": "code",
      "source": [
        "for i in range(3):\n",
        "    print(i)  # Part of the loop\n",
        "print(\"Done\")  # Not part of the loop\n"
      ],
      "metadata": {
        "colab": {
          "base_uri": "https://localhost:8080/"
        },
        "id": "5wmrLgpFDhzn",
        "outputId": "a103dfa4-edc4-44eb-8f07-1388ce1b0504"
      },
      "execution_count": 8,
      "outputs": [
        {
          "output_type": "stream",
          "name": "stdout",
          "text": [
            "0\n",
            "1\n",
            "2\n",
            "Done\n"
          ]
        }
      ]
    },
    {
      "cell_type": "markdown",
      "source": [
        "\n",
        "# Ques 5. What Happens If Indentation Is Incorrect in Python?\n",
        "\n",
        "In Python, incorrect indentation leads to errors or unintended program behavior, as indentation is a core part of the language syntax. Python uses indentation to define blocks of code for structures such as loops, conditionals, functions, and classes. If the indentation is not consistent or incorrect, the program cannot determine the structure, leading to one of the following outcomes:\n",
        "\n",
        "#  IndentationError\n",
        "\n",
        "If Python encounters unexpected or missing indentation, it raises an IndentationError and stops execution.\n",
        "\n",
        "# Examples of IndentationError:\n",
        "\n",
        "a. Missing Indentation"
      ],
      "metadata": {
        "id": "qUQizAuuEMhx"
      }
    },
    {
      "cell_type": "code",
      "source": [
        "#if True:\n",
        "print(\"This will raise an error\")  # No indentation for this line\n"
      ],
      "metadata": {
        "colab": {
          "base_uri": "https://localhost:8080/"
        },
        "id": "0ZZDKCCVDwhr",
        "outputId": "877e734a-7fca-4334-a29a-abe52b9502e1"
      },
      "execution_count": 10,
      "outputs": [
        {
          "output_type": "stream",
          "name": "stdout",
          "text": [
            "This will raise an error\n"
          ]
        }
      ]
    },
    {
      "cell_type": "markdown",
      "source": [
        "b. Inconsistent Indentation"
      ],
      "metadata": {
        "id": "mIW48gzlEurA"
      }
    },
    {
      "cell_type": "code",
      "source": [
        "def example_function():\n",
        "    print(\"Line 1 with 4 spaces\")\n",
        "      print(\"Line 2 with 8 spaces\")  # Mixed indentation\n"
      ],
      "metadata": {
        "colab": {
          "base_uri": "https://localhost:8080/",
          "height": 106
        },
        "id": "Np-hKwsZEj1w",
        "outputId": "cb74aba3-f194-46a9-a3a3-8d752d5c2a75"
      },
      "execution_count": 15,
      "outputs": [
        {
          "output_type": "error",
          "ename": "IndentationError",
          "evalue": "unexpected indent (<ipython-input-15-6bd4ced86e84>, line 3)",
          "traceback": [
            "\u001b[0;36m  File \u001b[0;32m\"<ipython-input-15-6bd4ced86e84>\"\u001b[0;36m, line \u001b[0;32m3\u001b[0m\n\u001b[0;31m    print(\"Line 2 with 8 spaces\")  # Mixed indentation\u001b[0m\n\u001b[0m    ^\u001b[0m\n\u001b[0;31mIndentationError\u001b[0m\u001b[0;31m:\u001b[0m unexpected indent\n"
          ]
        }
      ]
    },
    {
      "cell_type": "markdown",
      "source": [
        "# Ques 5. Differentiate between expression and statement in Python with examples.\n",
        "\n",
        "In Python, expressions and statements are fundamental building blocks of code, but they serve different purposes.\n",
        "# New Section\n",
        "# 1. Expression\n",
        "\n",
        "Definition: An expression is a combination of values, variables, operators, and function calls that Python evaluates to produce a result (value).\n",
        "Purpose: Expressions represent computations or evaluations that return a value.\n",
        "# Examples:\n",
        "\n",
        "\n",
        "\n"
      ],
      "metadata": {
        "id": "N6rHAA-ZFKUm"
      }
    },
    {
      "cell_type": "code",
      "source": [
        "5 + 3             # Expression, evaluates to 8\n",
        "x * 2             # Expression, evaluates to the value of x multiplied by 2\n",
        "len(\"Python\")     # Expression, evaluates to 6\n"
      ],
      "metadata": {
        "colab": {
          "base_uri": "https://localhost:8080/",
          "height": 176
        },
        "id": "VZ3da4r0IscC",
        "outputId": "6b91c636-8548-4cef-ebe0-d03370f93c8f"
      },
      "execution_count": 17,
      "outputs": [
        {
          "output_type": "error",
          "ename": "NameError",
          "evalue": "name 'x' is not defined",
          "traceback": [
            "\u001b[0;31m---------------------------------------------------------------------------\u001b[0m",
            "\u001b[0;31mNameError\u001b[0m                                 Traceback (most recent call last)",
            "\u001b[0;32m<ipython-input-17-3cdf95e5c03f>\u001b[0m in \u001b[0;36m<cell line: 2>\u001b[0;34m()\u001b[0m\n\u001b[1;32m      1\u001b[0m \u001b[0;36m5\u001b[0m \u001b[0;34m+\u001b[0m \u001b[0;36m3\u001b[0m             \u001b[0;31m# Expression, evaluates to 8\u001b[0m\u001b[0;34m\u001b[0m\u001b[0;34m\u001b[0m\u001b[0m\n\u001b[0;32m----> 2\u001b[0;31m \u001b[0mx\u001b[0m \u001b[0;34m*\u001b[0m \u001b[0;36m2\u001b[0m             \u001b[0;31m# Expression, evaluates to the value of x multiplied by 2\u001b[0m\u001b[0;34m\u001b[0m\u001b[0;34m\u001b[0m\u001b[0m\n\u001b[0m\u001b[1;32m      3\u001b[0m \u001b[0mlen\u001b[0m\u001b[0;34m(\u001b[0m\u001b[0;34m\"Python\"\u001b[0m\u001b[0;34m)\u001b[0m     \u001b[0;31m# Expression, evaluates to 6\u001b[0m\u001b[0;34m\u001b[0m\u001b[0;34m\u001b[0m\u001b[0m\n",
            "\u001b[0;31mNameError\u001b[0m: name 'x' is not defined"
          ]
        }
      ]
    },
    {
      "cell_type": "markdown",
      "source": [
        "# Characteristics:\n",
        ".Always produces a value.\n",
        ".Can be used within statements.\n",
        ".Does not perform any action by itself.\n",
        "\n",
        "\n",
        "# 2. Statement\n",
        "\n",
        "Definition: A statement is an instruction that Python executes. It performs an action or a series of actions but does not necessarily produce a value.\n",
        "Purpose: Statements control the flow of execution and can include expressions.\n",
        "Examples:\n",
        "\n",
        "\n"
      ],
      "metadata": {
        "id": "rJnz1iM4JPI6"
      }
    },
    {
      "cell_type": "code",
      "source": [
        "x = 5             # Assignment statement\n",
        "if x > 3:         # if statement\n",
        "    print(x)      # print statement\n"
      ],
      "metadata": {
        "colab": {
          "base_uri": "https://localhost:8080/"
        },
        "id": "MUYRNdP1IkdD",
        "outputId": "07cf3403-56b4-440a-f4ef-adf4d3184192"
      },
      "execution_count": 18,
      "outputs": [
        {
          "output_type": "stream",
          "name": "stdout",
          "text": [
            "5\n"
          ]
        }
      ]
    },
    {
      "cell_type": "markdown",
      "source": [
        "# Characteristics:\n",
        "May or may not produce a value.\n",
        "Used to perform actions such as assignments, loops, conditionals, or function calls.\n"
      ],
      "metadata": {
        "id": "1MV420vDJhhl"
      }
    },
    {
      "cell_type": "markdown",
      "source": [
        "# Example Combining Both"
      ],
      "metadata": {
        "id": "GjuvxSHBJ0-w"
      }
    },
    {
      "cell_type": "code",
      "source": [
        "# Expression: Evaluates to a value\n",
        "x = 10  # Statement: Assigns the value 10 to x\n",
        "y = x * 2  # Statement: Assigns the result of the expression (x * 2) to y\n",
        "\n",
        "# Expression used inside a statement\n",
        "if y > 15:  # Statement: Includes the expression y > 15\n",
        "    print(\"y is greater than 15\")  # Statement: Prints a message\n"
      ],
      "metadata": {
        "id": "xDQf40CtJhFB"
      },
      "execution_count": null,
      "outputs": []
    }
  ]
}