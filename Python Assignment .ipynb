{
  "nbformat": 4,
  "nbformat_minor": 0,
  "metadata": {
    "colab": {
      "provenance": []
    },
    "kernelspec": {
      "name": "python3",
      "display_name": "Python 3"
    },
    "language_info": {
      "name": "python"
    }
  },
  "cells": [
    {
      "cell_type": "code",
      "source": [
        "# Python Type Conversion\n",
        "# Assignment Questions\n",
        "\n",
        "#1.  Convert an integer to a floating-point number.\n",
        "\n",
        "integer_value = 5\n",
        "float_value = float(integer_value)\n",
        "print(float_value) # Output: 5.0\n",
        "\n"
      ],
      "metadata": {
        "colab": {
          "base_uri": "https://localhost:8080/"
        },
        "id": "jnPoxeC6YRqt",
        "outputId": "724d21f8-eccb-4219-f5a9-4b682971b1d2"
      },
      "execution_count": 2,
      "outputs": [
        {
          "output_type": "stream",
          "name": "stdout",
          "text": [
            "5.0\n"
          ]
        }
      ]
    },
    {
      "cell_type": "code",
      "source": [
        "# 2. Convert a float to an integer.\n",
        "float_value = 7.8\n",
        "int_value = int(float_value)\n",
        "print(int_value)  # Output: 7\n"
      ],
      "metadata": {
        "colab": {
          "base_uri": "https://localhost:8080/"
        },
        "id": "I5PRXnu1YbVc",
        "outputId": "9760b7d7-b352-4f07-9946-6a03bdfbaa8a"
      },
      "execution_count": 3,
      "outputs": [
        {
          "output_type": "stream",
          "name": "stdout",
          "text": [
            "7\n"
          ]
        }
      ]
    },
    {
      "cell_type": "code",
      "source": [
        "# 3. Convert an integer to a string.\n",
        "integer_value = 42\n",
        "string_value = str(integer_value)\n",
        "print(string_value) # Output:  \"42\"\n",
        "print(type(string_value))  # Output: <class 'str'>\n"
      ],
      "metadata": {
        "colab": {
          "base_uri": "https://localhost:8080/"
        },
        "id": "SByiIyteZUUj",
        "outputId": "25b72843-c4f9-4578-8880-5e60538459db"
      },
      "execution_count": 7,
      "outputs": [
        {
          "output_type": "stream",
          "name": "stdout",
          "text": [
            "42\n",
            "<class 'str'>\n"
          ]
        }
      ]
    },
    {
      "cell_type": "code",
      "source": [
        "# 4. Convert a list to a tuple.\n",
        "my_list = [1, 2, 3, 4]\n",
        "my_tuple = tuple(my_list)\n",
        "print(my_tuple) #.# Output:(1, 2, 3, 4)\n"
      ],
      "metadata": {
        "colab": {
          "base_uri": "https://localhost:8080/"
        },
        "id": "B8EO2auWZ86o",
        "outputId": "b0eba95a-00c1-4b14-def6-119113e7aa33"
      },
      "execution_count": 8,
      "outputs": [
        {
          "output_type": "stream",
          "name": "stdout",
          "text": [
            "(1, 2, 3, 4)\n"
          ]
        }
      ]
    },
    {
      "cell_type": "code",
      "source": [
        "# 5. Convert a tuple to a list.\n",
        "my_tuple = (1, 2, 3)\n",
        "my_list = list(my_tuple)\n",
        "print(my_list) # Output:[1, 2, 3]\n"
      ],
      "metadata": {
        "colab": {
          "base_uri": "https://localhost:8080/"
        },
        "id": "Pwnd6O1YbC5i",
        "outputId": "48d48069-42cc-4b44-bb57-c7b1134bd8f3"
      },
      "execution_count": 10,
      "outputs": [
        {
          "output_type": "stream",
          "name": "stdout",
          "text": [
            "[1, 2, 3]\n"
          ]
        }
      ]
    },
    {
      "cell_type": "code",
      "source": [
        "# 6. Convert a decimal number to binary.\n",
        "decimal_number = 10\n",
        "binary_representation = bin(decimal_number)\n",
        "print(binary_representation)  # Output:0b1010\n"
      ],
      "metadata": {
        "colab": {
          "base_uri": "https://localhost:8080/"
        },
        "id": "3IrwzOaMbud-",
        "outputId": "b77cd59f-682d-43d9-cfe7-7131a588d202"
      },
      "execution_count": 12,
      "outputs": [
        {
          "output_type": "stream",
          "name": "stdout",
          "text": [
            "0b1010\n"
          ]
        }
      ]
    },
    {
      "cell_type": "code",
      "source": [
        "# 7. Convert a non-zero number to boolean.\n",
        "number = 5\n",
        "boolean_value = bool(number)\n",
        "print(boolean_value)\n"
      ],
      "metadata": {
        "colab": {
          "base_uri": "https://localhost:8080/"
        },
        "id": "OuE-rNk8cMQE",
        "outputId": "b3c5df33-2307-4199-eeae-043579473bc1"
      },
      "execution_count": 13,
      "outputs": [
        {
          "output_type": "stream",
          "name": "stdout",
          "text": [
            "True\n"
          ]
        }
      ]
    },
    {
      "cell_type": "code",
      "source": [
        "number = 0\n",
        "boolean_value = bool(number)\n",
        "print(boolean_value)\n"
      ],
      "metadata": {
        "colab": {
          "base_uri": "https://localhost:8080/"
        },
        "id": "QvQWxXHLc21w",
        "outputId": "aebcb0a1-f174-4d68-a9cd-86f962f744da"
      },
      "execution_count": 14,
      "outputs": [
        {
          "output_type": "stream",
          "name": "stdout",
          "text": [
            "False\n"
          ]
        }
      ]
    },
    {
      "cell_type": "code",
      "source": [],
      "metadata": {
        "id": "Ngyrlua_c7Jz"
      },
      "execution_count": null,
      "outputs": []
    }
  ]
}