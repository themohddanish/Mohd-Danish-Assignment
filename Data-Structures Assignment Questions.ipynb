{
  "nbformat": 4,
  "nbformat_minor": 0,
  "metadata": {
    "colab": {
      "provenance": []
    },
    "kernelspec": {
      "name": "python3",
      "display_name": "Python 3"
    },
    "language_info": {
      "name": "python"
    }
  },
  "cells": [
    {
      "cell_type": "markdown",
      "source": [
        "# Data-Structures Assignment Questions"
      ],
      "metadata": {
        "id": "OgQGxAVCchHm"
      }
    },
    {
      "cell_type": "markdown",
      "source": [
        "# Ques 1. Why might you choose a deque from the collections module to implement a queue instead of using a regular Python list?\n",
        "\n",
        "You might choose a deque from the collections module to implement a queue instead of using a regular Python list because a deque is optimized for operations that involve adding or removing elements from both ends, whereas a regular Python list is not.\n",
        "\n",
        "# Key Advantages of deque Over list for Queues:\n",
        "\n",
        "# Example: Using deque for a Queue"
      ],
      "metadata": {
        "id": "vYQHwaKLcajT"
      }
    },
    {
      "cell_type": "code",
      "source": [
        "from collections import deque\n",
        "\n",
        "# Create a deque\n",
        "queue = deque()\n",
        "\n",
        "# Enqueue elements\n",
        "queue.append(\"A\")  # Add to the right\n",
        "queue.append(\"B\")\n",
        "queue.append(\"C\")\n",
        "\n",
        "print(\"Queue after enqueueing:\", queue)\n",
        "\n",
        "# Dequeue elements\n",
        "print(\"Dequeued:\", queue.popleft())  # Remove from the left\n",
        "print(\"Queue after dequeueing:\", queue)\n"
      ],
      "metadata": {
        "colab": {
          "base_uri": "https://localhost:8080/"
        },
        "id": "KWEzsYpjczDm",
        "outputId": "0dbb241d-2ebe-4719-e724-822ae19b07ce"
      },
      "execution_count": 8,
      "outputs": [
        {
          "output_type": "stream",
          "name": "stdout",
          "text": [
            "Queue after enqueueing: deque(['A', 'B', 'C'])\n",
            "Dequeued: A\n",
            "Queue after dequeueing: deque(['B', 'C'])\n"
          ]
        }
      ]
    },
    {
      "cell_type": "markdown",
      "source": [
        "# Use a deque for a more efficient and explicit queue implementation!"
      ],
      "metadata": {
        "id": "CUR6iXw_iUHk"
      }
    },
    {
      "cell_type": "markdown",
      "source": [
        "# Ques 2.  Can you explain a real-world scenario where using a stack would be a more practical choice than a list for data storage and retrieval?\n",
        "\n",
        "\n",
        "# Real-World Scenario for Using a Stack\n",
        "\n",
        "A stack is a Last In, First Out (LIFO) data structure, which makes it ideal for scenarios where the last element added needs to be the first one accessed. Here's a practical example:\n",
        "\n",
        "# Scenario: Browser Back Functionality\n",
        "\n",
        "1.Problem:\n",
        "\n",
        "When navigating web pages, the browser allows you to go back to the most recently visited page. The sequence of visited pages must be reversed, so the last page visited is retrieved first.\n",
        "\n",
        "2.Solution Using a Stack:\n",
        "\n",
        "Each time you visit a new page, the URL is pushed onto the stack.\n",
        "When you click \"Back,\" the most recent URL is popped off the stack, taking you back to the previous page.\n",
        "The remaining stack still holds URLs for earlier pages, maintaining the correct order.\n",
        "\n",
        "# Why a Stack is Better than a List?\n",
        "\n",
        "* Efficient Retrieval:\n",
        "   . A stack ensures that only the top element is accessed, making it more efficient and straightforward for this specific use case.\n",
        "\n",
        "*Logical Fit:\n",
        "   . The LIFO behavior of a stack naturally models the \"Back\" action, as it always retrieves the most recent entry.\n",
        "\n",
        "*Readability:\n",
        "  . Using a stack explicitly shows the intent to manage data in a LIFO order, making the code easier to understand and maintain.\n",
        "\n",
        "# Example Implementation\n",
        "\n"
      ],
      "metadata": {
        "id": "Rb8MHXkBffxJ"
      }
    },
    {
      "cell_type": "code",
      "source": [
        "# Stack for browser history\n",
        "stack = []\n",
        "\n",
        "# Push URLs onto the stack (visit new pages)\n",
        "stack.append(\"Page1\")\n",
        "stack.append(\"Page2\")\n",
        "stack.append(\"Page3\")\n",
        "\n",
        "# Pop URLs from the stack (back functionality)\n",
        "current_page = stack.pop()  # Go back to \"Page2\"\n",
        "print(f\"Current Page: {current_page}\")\n"
      ],
      "metadata": {
        "colab": {
          "base_uri": "https://localhost:8080/"
        },
        "id": "fym7MNFxj-Ao",
        "outputId": "38fc3a60-b206-40a0-a62d-cb0d60282b83"
      },
      "execution_count": 10,
      "outputs": [
        {
          "output_type": "stream",
          "name": "stdout",
          "text": [
            "Current Page: Page3\n"
          ]
        }
      ]
    },
    {
      "cell_type": "markdown",
      "source": [
        "In all these cases, a stack is more practical because of its LIFO nature and efficient operations at the top."
      ],
      "metadata": {
        "id": "PnwQobSwj_Iz"
      }
    },
    {
      "cell_type": "markdown",
      "source": [
        "# Ques 3. What is the primary advantage of using sets in Python, and in what type of problem-solving scenarios are they most useful?\n",
        "\n",
        "# Primary Advantage of Sets in Python\n",
        "\n",
        "*Uniqueness:\n",
        "          . Automatically handle unique elements (no duplicates).\n",
        "\n",
        "*Efficiency:\n",
        "          . Fast membership testing (average O(1)) and set operations like union, intersection, and difference.\n",
        "\n",
        "# Useful Scenarios\n",
        " 1.Remove Duplicates         \n"
      ],
      "metadata": {
        "id": "tUv7uT6BkNYF"
      }
    },
    {
      "cell_type": "code",
      "source": [
        "numbers = [1, 2, 2, 3]\n",
        "print(set(numbers))  # Output: {1, 2, 3}\n"
      ],
      "metadata": {
        "colab": {
          "base_uri": "https://localhost:8080/"
        },
        "id": "xkA9EnpOlrGs",
        "outputId": "e1d41b7b-a6cc-45de-8537-e51644721de9"
      },
      "execution_count": 11,
      "outputs": [
        {
          "output_type": "stream",
          "name": "stdout",
          "text": [
            "{1, 2, 3}\n"
          ]
        }
      ]
    },
    {
      "cell_type": "markdown",
      "source": [
        "2.Find Common Elements"
      ],
      "metadata": {
        "id": "XczE7gRXls1n"
      }
    },
    {
      "cell_type": "code",
      "source": [
        "set1, set2 = {1, 2}, {2, 3}\n",
        "print(set1 & set2)  # Output: {2}\n"
      ],
      "metadata": {
        "colab": {
          "base_uri": "https://localhost:8080/"
        },
        "id": "CYjgimU7lzrQ",
        "outputId": "cc713516-459e-43d8-c62d-8156707f618b"
      },
      "execution_count": 15,
      "outputs": [
        {
          "output_type": "stream",
          "name": "stdout",
          "text": [
            "{2}\n"
          ]
        }
      ]
    },
    {
      "cell_type": "markdown",
      "source": [
        "3.Efficient Lookups\n"
      ],
      "metadata": {
        "id": "3ADFg0rQl4bo"
      }
    },
    {
      "cell_type": "code",
      "source": [
        "items = {\"apple\", \"banana\"}\n",
        "print(\"banana\" in items)  # Output: True\n"
      ],
      "metadata": {
        "colab": {
          "base_uri": "https://localhost:8080/"
        },
        "id": "BVoJEH2xmCgS",
        "outputId": "09da5204-64c7-4cb7-e07e-e301898977cd"
      },
      "execution_count": 14,
      "outputs": [
        {
          "output_type": "stream",
          "name": "stdout",
          "text": [
            "True\n"
          ]
        }
      ]
    },
    {
      "cell_type": "markdown",
      "source": [
        "4.Mathematical Set Operations"
      ],
      "metadata": {
        "id": "sWwIQLs-mDxj"
      }
    },
    {
      "cell_type": "code",
      "source": [
        "print({1, 2} | {2, 3})  # Output: {1, 2, 3}\n"
      ],
      "metadata": {
        "colab": {
          "base_uri": "https://localhost:8080/"
        },
        "id": "6TFpexKAmJL5",
        "outputId": "518f47c5-5aee-4c29-c8a5-04ed532e4d84"
      },
      "execution_count": 13,
      "outputs": [
        {
          "output_type": "stream",
          "name": "stdout",
          "text": [
            "{1, 2, 3}\n"
          ]
        }
      ]
    },
    {
      "cell_type": "markdown",
      "source": [
        "# Ques 4.When might you choose to use an array instead of a list for storing numerical data in Python? ? What benefits do arrays offer in this context?\n",
        "\n",
        "# When to Use Arrays Instead of Lists\n",
        "   Use arrays for numerical data when:\n",
        "\n",
        "1. Memory Efficiency: Arrays use less memory by storing elements of the same type.\n",
        "2. Faster Operations: Arrays perform numerical computations faster than lists.\n",
        "3. Type Enforcement: Arrays ensure all elements have the same type.\n",
        "4. Advanced Math: Libraries like numpy enable efficient math operations.\n",
        "\n",
        "# Example\n",
        "Array (from array module):"
      ],
      "metadata": {
        "id": "HMZqVxgDmeRV"
      }
    },
    {
      "cell_type": "code",
      "source": [
        "from array import array\n",
        "arr = array('i', [1, 2, 3])  # Integer array\n",
        "\n"
      ],
      "metadata": {
        "id": "3qzMle9JoT4m"
      },
      "execution_count": 20,
      "outputs": []
    },
    {
      "cell_type": "code",
      "source": [
        "import numpy as np\n",
        "arr = np.array([1, 2, 3])\n",
        "print(arr * 2)  # Output: [2 4 6]\n"
      ],
      "metadata": {
        "colab": {
          "base_uri": "https://localhost:8080/"
        },
        "id": "WZF2UKzXoXLp",
        "outputId": "8ff1cb18-af1b-4368-8ae6-6c1294b317d6"
      },
      "execution_count": 19,
      "outputs": [
        {
          "output_type": "stream",
          "name": "stdout",
          "text": [
            "[2 4 6]\n"
          ]
        }
      ]
    },
    {
      "cell_type": "markdown",
      "source": [
        "Use arrays for speed and memory efficiency in numerical tasks!"
      ],
      "metadata": {
        "id": "xDkK_cs-ociV"
      }
    },
    {
      "cell_type": "markdown",
      "source": [
        "# Ques 5.In Python, what's the primary difference between dictionaries and lists, and how does this difference impact their use cases in programming?\n",
        "\n",
        "# Primary Difference Between Dictionaries and Lists in Python\n",
        "1. Data Structure:\n",
        "* Dictionaries: Store data as key-value pairs ({key: value}).\n",
        "* Lists: Store data as ordered collections of elements ([element1, element2, ...]).\n",
        "\n",
        "2. Access Method:\n",
        "\n",
        "* Dictionaries: Access values by their unique keys (O(1) average time complexity).\n",
        "* Lists: Access elements by their index (O(1) for direct access by index).\n",
        "\n",
        "# Impact on Use Cases\n",
        "\n",
        "1. Dictionaries:\n",
        "\n",
        "* Best for mapping relationships or when quick lookups by a key are needed.\n",
        "* Example: Storing user data by ID or managing configurations.\n",
        "\n"
      ],
      "metadata": {
        "id": "dfhRO546osSD"
      }
    },
    {
      "cell_type": "code",
      "source": [
        "user = {\"id\": 101, \"name\": \"Alice\", \"age\": 25}\n",
        "print(user[\"name\"])  # Output: Alice\n"
      ],
      "metadata": {
        "colab": {
          "base_uri": "https://localhost:8080/"
        },
        "id": "xb9YI5OQoZV1",
        "outputId": "8a014380-bdb3-4874-c66b-21df60399f75"
      },
      "execution_count": 21,
      "outputs": [
        {
          "output_type": "stream",
          "name": "stdout",
          "text": [
            "Alice\n"
          ]
        }
      ]
    },
    {
      "cell_type": "markdown",
      "source": [
        "2. Lists:\n",
        "\n",
        "* Ideal for ordered collections or sequential data processing.\n",
        "* Example: Maintaining a list of tasks or processing elements in order."
      ],
      "metadata": {
        "id": "BvDEWguEqSo3"
      }
    },
    {
      "cell_type": "code",
      "source": [
        "tasks = [\"Task1\", \"Task2\", \"Task3\"]\n",
        "print(tasks[1])  # Output: Task2\n"
      ],
      "metadata": {
        "colab": {
          "base_uri": "https://localhost:8080/"
        },
        "id": "R98WpFQRqN9Q",
        "outputId": "f8481eba-6b56-41e5-bfd9-cf5881aaf4ac"
      },
      "execution_count": 22,
      "outputs": [
        {
          "output_type": "stream",
          "name": "stdout",
          "text": [
            "Task2\n"
          ]
        }
      ]
    },
    {
      "cell_type": "markdown",
      "source": [
        "# Summary\n",
        "* Use dictionaries for key-based lookups and lists for ordered collections.\n",
        "Choose based on whether data needs unique keys or sequential organization."
      ],
      "metadata": {
        "id": "d5hZ7lvWq5rc"
      }
    }
  ]
}