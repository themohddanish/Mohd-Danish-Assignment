{
  "nbformat": 4,
  "nbformat_minor": 0,
  "metadata": {
    "colab": {
      "provenance": []
    },
    "kernelspec": {
      "name": "python3",
      "display_name": "Python 3"
    },
    "language_info": {
      "name": "python"
    }
  },
  "cells": [
    {
      "cell_type": "code",
      "source": [
        "# 1.Calculate the sum, difference, product, and quotient of two numbers.\n",
        "\n",
        "# Define two numbers\n",
        "a = 10\n",
        "b = 5\n",
        "\n",
        "# Perform arithmetic operations\n",
        "sum_result = a + b\n",
        "difference_result = a - b\n",
        "product_result = a * b\n",
        "quotient_result = a / b  # This gives a float result\n",
        "\n",
        "# Print results\n",
        "print(\"Sum:\", sum_result)\n",
        "print(\"Difference:\", difference_result)\n",
        "print(\"Product:\", product_result)\n",
        "print(\"Quotient:\", quotient_result)\n"
      ],
      "metadata": {
        "colab": {
          "base_uri": "https://localhost:8080/"
        },
        "id": "g032Y7NBMsZS",
        "outputId": "db00f283-adcb-459c-9614-319e8a1f11a7"
      },
      "execution_count": 1,
      "outputs": [
        {
          "output_type": "stream",
          "name": "stdout",
          "text": [
            "Sum: 15\n",
            "Difference: 5\n",
            "Product: 50\n",
            "Quotient: 2.0\n"
          ]
        }
      ]
    },
    {
      "cell_type": "code",
      "source": [
        "# 2.Perform various assignment operations on a variable.\n",
        "\n",
        "# Initial variable\n",
        "x = 10\n",
        "\n",
        "# Addition assignment\n",
        "x += 5    # Equivalent to: x = x + 5\n",
        "print(\"After += 5:\", x)  # 15\n",
        "\n",
        "# Subtraction assignment\n",
        "x -= 3    # Equivalent to: x = x - 3\n",
        "print(\"After -= 3:\", x)  # 12\n",
        "\n",
        "# Multiplication assignment\n",
        "x *= 2    # Equivalent to: x = x * 2\n",
        "print(\"After *= 2:\", x)  # 24\n",
        "\n",
        "# Division assignment\n",
        "x /= 4    # Equivalent to: x = x / 4\n",
        "print(\"After /= 4:\", x)  # 6.0 (division results in a float)\n",
        "\n",
        "# Modulus assignment\n",
        "x %= 5    # Equivalent to: x = x % 5\n",
        "print(\"After %= 5:\", x)  # 1.0\n",
        "\n",
        "# Exponentiation assignment\n",
        "x **= 3   # Equivalent to: x = x ** 3\n",
        "print(\"After **= 3:\", x)  # 1.0 (1 raised to any power is still 1)\n",
        "\n",
        "# Floor division assignment\n",
        "x //= 2   # Equivalent to: x = x // 2\n",
        "print(\"After //= 2:\", x)  # 0.0\n"
      ],
      "metadata": {
        "colab": {
          "base_uri": "https://localhost:8080/"
        },
        "id": "Dpa962zqNpRy",
        "outputId": "5d931422-bfce-43a5-ded8-9d4d7e9e3858"
      },
      "execution_count": 6,
      "outputs": [
        {
          "output_type": "stream",
          "name": "stdout",
          "text": [
            "After += 5: 15\n",
            "After -= 3: 12\n",
            "After *= 2: 24\n",
            "After /= 4: 6.0\n",
            "After %= 5: 1.0\n",
            "After **= 3: 1.0\n",
            "After //= 2: 0.0\n"
          ]
        }
      ]
    },
    {
      "cell_type": "code",
      "source": [
        "#. 3.Compare two numbers and print the results.\n",
        "\n",
        "# Define two numbers\n",
        "a = 10\n",
        "b = 5\n",
        "\n",
        "# Perform comparisons and print results\n",
        "print(\"Is a greater than b?\", a > b)     # True if a > b\n",
        "print(\"Is a less than b?\", a < b)        # True if a < b\n",
        "print(\"Is a equal to b?\", a == b)        # True if a == b\n",
        "print(\"Is a not equal to b?\", a != b)    # True if a != b\n",
        "print(\"Is a greater than or equal to b?\", a >= b)  # True if a >= b\n",
        "print(\"Is a less than or equal to b?\", a <= b)     # True if a <= b\n"
      ],
      "metadata": {
        "colab": {
          "base_uri": "https://localhost:8080/"
        },
        "id": "f9EhwyegO_ye",
        "outputId": "e5dc4435-cdf1-4074-8196-5eabd69ed9cc"
      },
      "execution_count": 7,
      "outputs": [
        {
          "output_type": "stream",
          "name": "stdout",
          "text": [
            "Is a greater than b? True\n",
            "Is a less than b? False\n",
            "Is a equal to b? False\n",
            "Is a not equal to b? True\n",
            "Is a greater than or equal to b? True\n",
            "Is a less than or equal to b? False\n"
          ]
        }
      ]
    },
    {
      "cell_type": "code",
      "source": [
        "# 4. Check conditions using logical operators.\n",
        "\n",
        "# Define two numbers\n",
        "a = 10\n",
        "b = 5\n",
        "\n",
        "# Using 'and' operator: True if both conditions are True\n",
        "if a > 0 and b > 0:\n",
        "    print(\"Both a and b are positive numbers.\")\n",
        "\n",
        "# Using 'or' operator: True if at least one condition is True\n",
        "if a > 0 or b < 0:\n",
        "    print(\"At least one of a or b is positive.\")\n",
        "\n",
        "# Using 'not' operator: True if the condition is False\n",
        "if not (a < 0):\n",
        "    print(\"a is not a negative number.\")\n"
      ],
      "metadata": {
        "colab": {
          "base_uri": "https://localhost:8080/"
        },
        "id": "qj-kPPclQc2W",
        "outputId": "911af6dd-51a8-45df-aadf-a58d92a98e1c"
      },
      "execution_count": 8,
      "outputs": [
        {
          "output_type": "stream",
          "name": "stdout",
          "text": [
            "Both a and b are positive numbers.\n",
            "At least one of a or b is positive.\n",
            "a is not a negative number.\n"
          ]
        }
      ]
    },
    {
      "cell_type": "code",
      "source": [
        "# 5.Check the identity of variables.\n",
        "\n",
        "# Define two variables with the same value\n",
        "a = [1, 2, 3]\n",
        "b = [1, 2, 3]\n",
        "c = a  # Assign 'c' to refer to the same object as 'a'\n",
        "\n",
        "# Using 'is' operator: True if both variables refer to the same object\n",
        "print(\"a is b:\", a is b)\n",
        "print(\"a is c:\", a is c)\n",
        "\n",
        "# Using 'is not' operator: True if both variables do not refer to the same object\n",
        "print(\"a is not b:\", a is not b)\n",
        "print(\"a is not c:\", a is not c)\n",
        "\n",
        "# Checking the id() to see memory address for more understanding\n",
        "print(\"id of a:\", id(a))\n",
        "print(\"id of b:\", id(b))\n",
        "print(\"id of c:\", id(c))\n"
      ],
      "metadata": {
        "colab": {
          "base_uri": "https://localhost:8080/"
        },
        "id": "zWFgIq7mRHhf",
        "outputId": "02610b79-8269-479f-ee55-117b62d6bd66"
      },
      "execution_count": 10,
      "outputs": [
        {
          "output_type": "stream",
          "name": "stdout",
          "text": [
            "a is b: False\n",
            "a is c: True\n",
            "a is not b: True\n",
            "a is not c: False\n",
            "id of a: 134820707182016\n",
            "id of b: 134820707180544\n",
            "id of c: 134820707182016\n"
          ]
        }
      ]
    },
    {
      "cell_type": "code",
      "source": [
        "# 6.Perform bitwise operations on any two integers.\n",
        "\n",
        "# Define two integers\n",
        "a = 10       # Binary: 1010\n",
        "b = 4        # Binary: 0100\n",
        "\n",
        "# Bitwise AND\n",
        "and_result = a & b\n",
        "print(\"a & b =\", and_result)  # 1010 & 0100 = 0000 -> 0\n",
        "\n",
        "# Bitwise OR\n",
        "or_result = a | b\n",
        "print(\"a | b =\", or_result)    # 1010 | 0100 = 1110 -> 14\n",
        "\n",
        "# Bitwise XOR\n",
        "xor_result = a ^ b\n",
        "print(\"a ^ b =\", xor_result)   # 1010 ^ 0100 = 1110 -> 14\n",
        "\n",
        "# Bitwise NOT (for a single number)\n",
        "not_result_a = ~a\n",
        "print(\"~a =\", not_result_a)    # ~1010 = -(1010 + 1) = -11\n",
        "\n",
        "# Left Shift (shifting bits to the left by 1 position)\n",
        "left_shift_result = a << 1\n",
        "print(\"a << 1 =\", left_shift_result)  # 1010 << 1 = 10100 -> 20\n",
        "\n",
        "# Right Shift (shifting bits to the right by 1 position)\n",
        "right_shift_result = a >> 1\n",
        "print(\"a >> 1 =\", right_shift_result) # 1010 >> 1 = 0101 -> 5\n"
      ],
      "metadata": {
        "colab": {
          "base_uri": "https://localhost:8080/"
        },
        "id": "D5a-2dkNR0Kh",
        "outputId": "6f65ccb7-0477-4b1d-906c-f205510b062e"
      },
      "execution_count": 1,
      "outputs": [
        {
          "output_type": "stream",
          "name": "stdout",
          "text": [
            "a & b = 0\n",
            "a | b = 14\n",
            "a ^ b = 14\n",
            "~a = -11\n",
            "a << 1 = 20\n",
            "a >> 1 = 5\n"
          ]
        }
      ]
    },
    {
      "cell_type": "code",
      "source": [
        "#. 7.Use unary operators to change the sign of a number.\n",
        "\n",
        "# Define a positive number\n",
        "a = 10\n",
        "# Use unary minus to change the sign\n",
        "negative_a = -a\n",
        "print(\"Original a:\", a)           # 10\n",
        "print(\"Negative a:\", negative_a)   # -10\n",
        "\n",
        "# Define a negative number\n",
        "b = -15\n",
        "# Use unary minus to change the sign\n",
        "positive_b = -b\n",
        "print(\"Original b:\", b)            # -15\n",
        "print(\"Positive b:\", positive_b)    # 15\n"
      ],
      "metadata": {
        "colab": {
          "base_uri": "https://localhost:8080/"
        },
        "id": "8uMQUgqq9ceY",
        "outputId": "2a983a00-26d8-4f80-cd01-a2b7b3555ad9"
      },
      "execution_count": 2,
      "outputs": [
        {
          "output_type": "stream",
          "name": "stdout",
          "text": [
            "Original a: 10\n",
            "Negative a: -10\n",
            "Original b: -15\n",
            "Positive b: 15\n"
          ]
        }
      ]
    },
    {
      "cell_type": "code",
      "source": [
        "#. 8. Use the ternary operator to assign values based on conditions.\n",
        "\n",
        "# Define a number\n",
        "number = 5\n",
        "\n",
        "# Use ternary operator to assign value based on condition\n",
        "result = \"Positive\" if number > 0 else \"Negative or Zero\"\n",
        "\n",
        "print(\"The number is:\", result)  # Output: \"The number is: Positive\"\n"
      ],
      "metadata": {
        "colab": {
          "base_uri": "https://localhost:8080/"
        },
        "id": "OuTKZ1cb-TvJ",
        "outputId": "0b8c6f83-1073-401d-f401-3677b5f99d66"
      },
      "execution_count": 3,
      "outputs": [
        {
          "output_type": "stream",
          "name": "stdout",
          "text": [
            "The number is: Positive\n"
          ]
        }
      ]
    },
    {
      "cell_type": "code",
      "source": [],
      "metadata": {
        "id": "_npIMODd-up9"
      },
      "execution_count": null,
      "outputs": []
    }
  ]
}