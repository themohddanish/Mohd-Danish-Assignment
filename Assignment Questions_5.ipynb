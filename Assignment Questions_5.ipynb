{
  "nbformat": 4,
  "nbformat_minor": 0,
  "metadata": {
    "colab": {
      "provenance": []
    },
    "kernelspec": {
      "name": "python3",
      "display_name": "Python 3"
    },
    "language_info": {
      "name": "python"
    }
  },
  "cells": [
    {
      "cell_type": "markdown",
      "source": [
        "#   Break And Continue Statement And Range Function Assignment Questions"
      ],
      "metadata": {
        "id": "pIQB6XJCVSPS"
      }
    },
    {
      "cell_type": "markdown",
      "source": [
        "# Ques 1.Write a program to print numbers from 1 to 10, but stop if the number is 5."
      ],
      "metadata": {
        "id": "E09Kkon5V2nx"
      }
    },
    {
      "cell_type": "code",
      "source": [
        "# Loop through numbers from 1 to 10\n",
        "for number in range(1, 11):\n",
        "    if number == 5:  # Check if the number is 5\n",
        "        break        # Exit the loop when number is 5\n",
        "    print(number)    # Print the current number\n"
      ],
      "metadata": {
        "colab": {
          "base_uri": "https://localhost:8080/"
        },
        "id": "MggFI1eYVchH",
        "outputId": "a663ee93-f9b9-49b4-f10e-bc011f45990f"
      },
      "execution_count": 1,
      "outputs": [
        {
          "output_type": "stream",
          "name": "stdout",
          "text": [
            "1\n",
            "2\n",
            "3\n",
            "4\n"
          ]
        }
      ]
    },
    {
      "cell_type": "markdown",
      "source": [
        "# Ques 2.Write a program to iterate through a list and stop when encountering a specific element."
      ],
      "metadata": {
        "id": "5wEw--aCWVD5"
      }
    },
    {
      "cell_type": "code",
      "source": [
        "# Define the list\n",
        "items = [\"apple\", \"banana\", \"cherry\", \"orange\", \"grape\"]\n",
        "\n",
        "# Define the element to stop at\n",
        "stop_element = \"cherry\"\n",
        "\n",
        "# Iterate through the list\n",
        "for item in items:\n",
        "    if item == stop_element:  # Check if the current item is the stop element\n",
        "        break                 # Exit the loop when the stop element is found\n",
        "    print(item)               # Print the current item\n"
      ],
      "metadata": {
        "colab": {
          "base_uri": "https://localhost:8080/"
        },
        "id": "Zdx3iGoYXs4Q",
        "outputId": "bd61e023-9d16-435d-d03d-18df8a31a4a1"
      },
      "execution_count": 3,
      "outputs": [
        {
          "output_type": "stream",
          "name": "stdout",
          "text": [
            "apple\n",
            "banana\n"
          ]
        }
      ]
    },
    {
      "cell_type": "markdown",
      "source": [
        "# Ques 3.Write a program to skip printing even numbers from 1 to 10."
      ],
      "metadata": {
        "id": "S7skG-_MYTjx"
      }
    },
    {
      "cell_type": "code",
      "source": [
        "# Loop through numbers from 1 to 10\n",
        "for number in range(1, 11):\n",
        "    if number % 2 == 0:  # Check if the number is even\n",
        "        continue         # Skip the rest of the loop for even numbers\n",
        "    print(number)        # Print the odd number\n"
      ],
      "metadata": {
        "colab": {
          "base_uri": "https://localhost:8080/"
        },
        "id": "KE0LYMy5X-zE",
        "outputId": "4db2285e-5858-4dd4-c0fd-fb14e2fba6d9"
      },
      "execution_count": 4,
      "outputs": [
        {
          "output_type": "stream",
          "name": "stdout",
          "text": [
            "1\n",
            "3\n",
            "5\n",
            "7\n",
            "9\n"
          ]
        }
      ]
    },
    {
      "cell_type": "markdown",
      "source": [
        "# Ques 4.Write a program to print numbers from 0 to 9 using range()."
      ],
      "metadata": {
        "id": "oHxt76IMZF1S"
      }
    },
    {
      "cell_type": "code",
      "source": [
        "# Loop through numbers from 0 to 9 using range()\n",
        "for number in range(10):  # range(10) generates numbers from 0 to 9\n",
        "    print(number)\n"
      ],
      "metadata": {
        "colab": {
          "base_uri": "https://localhost:8080/"
        },
        "id": "js5Dhfl-Y_C2",
        "outputId": "bccd8785-595c-4d43-ee0e-e285cf680e61"
      },
      "execution_count": 5,
      "outputs": [
        {
          "output_type": "stream",
          "name": "stdout",
          "text": [
            "0\n",
            "1\n",
            "2\n",
            "3\n",
            "4\n",
            "5\n",
            "6\n",
            "7\n",
            "8\n",
            "9\n"
          ]
        }
      ]
    },
    {
      "cell_type": "markdown",
      "source": [
        "# Ques 5.Write a program to print multiplication tables from 1 to 5, but stop after the first table is printed for each number."
      ],
      "metadata": {
        "id": "qEKNqMluZeEi"
      }
    },
    {
      "cell_type": "code",
      "source": [
        "# Loop through numbers 1 to 5 for the tables\n",
        "for i in range(1, 6):\n",
        "    # Inner loop for the multiplication table\n",
        "    for j in range(1, 11):\n",
        "        print(f\"{i} x {j} = {i * j}\")  # Print the first result\n",
        "        break  # Stop the inner loop after the first iteration\n"
      ],
      "metadata": {
        "colab": {
          "base_uri": "https://localhost:8080/"
        },
        "id": "xw4W8XP3ZrP0",
        "outputId": "268fc5d3-b6f4-4dc9-e40e-41b64b40dad4"
      },
      "execution_count": 6,
      "outputs": [
        {
          "output_type": "stream",
          "name": "stdout",
          "text": [
            "1 x 1 = 1\n",
            "2 x 1 = 2\n",
            "3 x 1 = 3\n",
            "4 x 1 = 4\n",
            "5 x 1 = 5\n"
          ]
        }
      ]
    },
    {
      "cell_type": "markdown",
      "source": [
        "# Ques 6.Write a program to skip printing even numbers using a while loop."
      ],
      "metadata": {
        "id": "XXjPcSkXaHlh"
      }
    },
    {
      "cell_type": "code",
      "source": [
        "# Initialize the starting number\n",
        "number = 1\n",
        "\n",
        "# Loop until the number exceeds 10\n",
        "while number <= 10:\n",
        "    if number % 2 == 0:  # Check if the number is even\n",
        "        number += 1      # Increment the number and skip this iteration\n",
        "        continue\n",
        "    print(number)        # Print the odd number\n",
        "    number += 1          # Increment the number\n"
      ],
      "metadata": {
        "colab": {
          "base_uri": "https://localhost:8080/"
        },
        "id": "4Te9o7uzaF96",
        "outputId": "5134ce9a-f965-4359-e418-6ed90d3e0b70"
      },
      "execution_count": 7,
      "outputs": [
        {
          "output_type": "stream",
          "name": "stdout",
          "text": [
            "1\n",
            "3\n",
            "5\n",
            "7\n",
            "9\n"
          ]
        }
      ]
    }
  ]
}