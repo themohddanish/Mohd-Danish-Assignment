{
  "nbformat": 4,
  "nbformat_minor": 0,
  "metadata": {
    "colab": {
      "provenance": []
    },
    "kernelspec": {
      "name": "python3",
      "display_name": "Python 3"
    },
    "language_info": {
      "name": "python"
    }
  },
  "cells": [
    {
      "cell_type": "markdown",
      "source": [
        "# Loops(While, For)\n",
        "# Assignment Questions"
      ],
      "metadata": {
        "id": "sHUotYancEb1"
      }
    },
    {
      "cell_type": "markdown",
      "source": [
        "# Ques1.  Print numbers from 1 to 5 using a while loop.\n",
        "\n",
        "Here's an example of how to print numbers from 1 to 5 using a while loop in Python:"
      ],
      "metadata": {
        "id": "FEjuR77vb9YK"
      }
    },
    {
      "cell_type": "code",
      "source": [
        "# Initialize the starting number\n",
        "number = 1\n",
        "\n",
        "# Loop until the number exceeds 5\n",
        "while number <= 5:\n",
        "    print(number)  # Print the current number\n",
        "    number += 1    # Increment the number by 1\n"
      ],
      "metadata": {
        "colab": {
          "base_uri": "https://localhost:8080/"
        },
        "id": "W3hrZGSOchfW",
        "outputId": "5c98ed3e-874f-4bac-c1ed-8b78ce291b0a"
      },
      "execution_count": 1,
      "outputs": [
        {
          "output_type": "stream",
          "name": "stdout",
          "text": [
            "1\n",
            "2\n",
            "3\n",
            "4\n",
            "5\n"
          ]
        }
      ]
    },
    {
      "cell_type": "markdown",
      "source": [
        "# Ques 2. Calculate the sum of numbers from 1 to 10 using a while loop.\n",
        "\n"
      ],
      "metadata": {
        "id": "W8eoW8v6clmk"
      }
    },
    {
      "cell_type": "code",
      "source": [
        "# Initialize variables\n",
        "number = 1  # Start from 1\n",
        "total = 0   # To store the sum\n",
        "\n",
        "# Loop until the number exceeds 10\n",
        "while number <= 10:\n",
        "    total += number  # Add the current number to the total\n",
        "    number += 1      # Increment the number by 1\n",
        "\n",
        "# Print the total sum\n",
        "print(\"The sum of numbers from 1 to 10 is:\", total)\n"
      ],
      "metadata": {
        "colab": {
          "base_uri": "https://localhost:8080/"
        },
        "id": "tW24wDmFc8Dr",
        "outputId": "6dca0a5b-4abe-48c4-f227-d7b4850b8092"
      },
      "execution_count": 2,
      "outputs": [
        {
          "output_type": "stream",
          "name": "stdout",
          "text": [
            "The sum of numbers from 1 to 10 is: 55\n"
          ]
        }
      ]
    },
    {
      "cell_type": "markdown",
      "source": [
        "# Ques 3.Calculate the factorial of a number using a for loop.\n",
        "\n"
      ],
      "metadata": {
        "id": "UMOvwpRxc69j"
      }
    },
    {
      "cell_type": "code",
      "source": [
        "# Get input from the user\n",
        "num = int(input(\"Enter a number: \"))\n",
        "\n",
        "# Initialize the factorial to 1\n",
        "factorial = 1\n",
        "\n",
        "# Use a for loop to calculate the factorial\n",
        "for i in range(1, num + 1):\n",
        "    factorial *= i  # Multiply the current value of factorial by i\n",
        "\n",
        "# Print the result\n",
        "print(f\"The factorial of {num} is: {factorial}\")\n"
      ],
      "metadata": {
        "colab": {
          "base_uri": "https://localhost:8080/"
        },
        "id": "Ic7BXxJRdbAK",
        "outputId": "1a686308-6cb1-41f0-b2ed-8ebfbfe44abf"
      },
      "execution_count": 3,
      "outputs": [
        {
          "output_type": "stream",
          "name": "stdout",
          "text": [
            "Enter a number: 5\n",
            "The factorial of 5 is: 120\n"
          ]
        }
      ]
    },
    {
      "cell_type": "markdown",
      "source": [
        "# Ques 4.Count the number of vowels in a string using a for loop."
      ],
      "metadata": {
        "id": "u6cqYA67dixg"
      }
    },
    {
      "cell_type": "code",
      "source": [
        "# Get input from the user\n",
        "input_string = input(\"Enter a string: \")\n",
        "\n",
        "# Initialize a counter for vowels\n",
        "vowel_count = 0\n",
        "\n",
        "# Define the set of vowels\n",
        "vowels = \"aeiouAEIOU\"\n",
        "\n",
        "# Loop through each character in the string\n",
        "for char in input_string:\n",
        "    if char in vowels:  # Check if the character is a vowel\n",
        "        vowel_count += 1\n",
        "\n",
        "# Print the result\n",
        "print(f\"The number of vowels in the string is: {vowel_count}\")\n"
      ],
      "metadata": {
        "colab": {
          "base_uri": "https://localhost:8080/"
        },
        "id": "Pca4gtY7dbz8",
        "outputId": "30a95e2b-705c-4cd7-c861-8dbdd9c5e2a4"
      },
      "execution_count": 4,
      "outputs": [
        {
          "output_type": "stream",
          "name": "stdout",
          "text": [
            "Enter a string: Hello World\n",
            "The number of vowels in the string is: 3\n"
          ]
        }
      ]
    },
    {
      "cell_type": "markdown",
      "source": [
        "# Ques 5. Print a pattern using nested loops.\n",
        "\n",
        "\n",
        "Here’s an example of printing a simple pattern using nested loops in Python. Let's print a right-angled triangle of stars (*):\n",
        "\n",
        "\n"
      ],
      "metadata": {
        "id": "aUrgp4kmeeqW"
      }
    },
    {
      "cell_type": "code",
      "source": [
        "# Get the number of rows from the user\n",
        "rows = int(input(\"Enter the number of rows: \"))\n",
        "\n",
        "# Outer loop for each row\n",
        "for i in range(1, rows + 1):\n",
        "    # Inner loop for printing stars\n",
        "    for j in range(1, i + 1):\n",
        "        print(\"*\", end=\"\")  # Print star without a newline\n",
        "    print()  # Move to the next line after each row\n",
        "\n"
      ],
      "metadata": {
        "colab": {
          "base_uri": "https://localhost:8080/"
        },
        "id": "DiYAT1fQeHlb",
        "outputId": "1c5d7651-9651-4d8a-864a-795dd3cf8006"
      },
      "execution_count": 5,
      "outputs": [
        {
          "output_type": "stream",
          "name": "stdout",
          "text": [
            "Enter the number of rows: 5\n",
            "*\n",
            "**\n",
            "***\n",
            "****\n",
            "*****\n"
          ]
        }
      ]
    },
    {
      "cell_type": "markdown",
      "source": [
        "# Ques 6.Generate a multiplication table using nested loops.\n"
      ],
      "metadata": {
        "id": "i7txSixbfL3R"
      }
    },
    {
      "cell_type": "code",
      "source": [
        "# Get the size of the multiplication table from the user\n",
        "size = int(input(\"Enter the size of the multiplication table: \"))\n",
        "\n",
        "# Outer loop for rows\n",
        "for i in range(1, size + 1):\n",
        "    # Inner loop for columns\n",
        "    for j in range(1, size + 1):\n",
        "        print(f\"{i * j:4}\", end=\"\")  # Print product with formatting for alignment\n",
        "    print()  # Move to the next row\n"
      ],
      "metadata": {
        "colab": {
          "base_uri": "https://localhost:8080/"
        },
        "id": "ojHyPyy_e51J",
        "outputId": "ffae1a8a-ae54-42f8-fb54-c3f7c7b5250b"
      },
      "execution_count": 6,
      "outputs": [
        {
          "output_type": "stream",
          "name": "stdout",
          "text": [
            "Enter the size of the multiplication table: 5\n",
            "   1   2   3   4   5\n",
            "   2   4   6   8  10\n",
            "   3   6   9  12  15\n",
            "   4   8  12  16  20\n",
            "   5  10  15  20  25\n"
          ]
        }
      ]
    }
  ]
}