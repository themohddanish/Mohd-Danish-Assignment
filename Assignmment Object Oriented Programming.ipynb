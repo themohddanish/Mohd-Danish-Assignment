{
  "nbformat": 4,
  "nbformat_minor": 0,
  "metadata": {
    "colab": {
      "provenance": []
    },
    "kernelspec": {
      "name": "python3",
      "display_name": "Python 3"
    },
    "language_info": {
      "name": "python"
    }
  },
  "cells": [
    {
      "cell_type": "markdown",
      "source": [
        "# Assignmment Object Oriented Programming\n",
        "Ques 1.Explain the importance of Functions.\n",
        "1. Importance of Functions:-\n",
        "\n",
        "* Reusability: Avoid redundant code.\n",
        "* Modularity: Easier to manage and debug.\n",
        "* Readability: Organized and clear.\n",
        "* Abstraction: Focus on \"what,\" not \"how.\"\n",
        "\n",
        "Ques 2.  Write a basic function to greet students.\n",
        "  "
      ],
      "metadata": {
        "id": "KOAPP2hEGXQp"
      }
    },
    {
      "cell_type": "code",
      "execution_count": null,
      "metadata": {
        "id": "vE0RGcR4GSlX"
      },
      "outputs": [],
      "source": [
        "def greet_students():\n",
        "    print(\"Hello, students! Welcome to the class.\")\n"
      ]
    },
    {
      "cell_type": "markdown",
      "source": [
        "Ques 3. What is the difference between print and return statements.\n",
        "  * Difference: print vs return\n",
        "     * print: Displays output, no reusable value.\n",
        "     * return: Sends value back to the caller, no direct display.\n",
        "\n"
      ],
      "metadata": {
        "id": "8SLPB5UIGWMk"
      }
    },
    {
      "cell_type": "code",
      "source": [
        "def show_message():\n",
        "    print(\"This is a message.\")\n"
      ],
      "metadata": {
        "id": "pUa4mDPhbTXS"
      },
      "execution_count": null,
      "outputs": []
    },
    {
      "cell_type": "code",
      "source": [
        "def add_numbers(a, b):\n",
        "    return a + b\n"
      ],
      "metadata": {
        "id": "dIMUZ97Jbqhs"
      },
      "execution_count": null,
      "outputs": []
    },
    {
      "cell_type": "markdown",
      "source": [
        "Ques 4.What are *args and **kwargs?\n",
        "\n",
        "# *  *args and **kwargs\n",
        "*  *args: For variable positional arguments (tuple)"
      ],
      "metadata": {
        "id": "QBUSATYbbwUW"
      }
    },
    {
      "cell_type": "code",
      "source": [
        "def add_numbers(*args):\n",
        "    return sum(args)\n"
      ],
      "metadata": {
        "id": "sB1wUhnmbsmD"
      },
      "execution_count": null,
      "outputs": []
    },
    {
      "cell_type": "markdown",
      "source": [
        "**kwargs: For variable keyword arguments (dictionary)."
      ],
      "metadata": {
        "id": "VhblVfM6cx6J"
      }
    },
    {
      "cell_type": "code",
      "source": [
        "def display_info(**kwargs):\n",
        "    print(kwargs)\n"
      ],
      "metadata": {
        "id": "Hd8PFc92cuuq"
      },
      "execution_count": null,
      "outputs": []
    },
    {
      "cell_type": "markdown",
      "source": [
        "Ques 5.Explain the iterator function?\n",
        "\n",
        "# Iterator Function\n",
        "* Enables sequential traversal of elements.\n",
        "* Uses __iter__() and __next__().\n",
        "# Example:"
      ],
      "metadata": {
        "id": "KtUqHXcQdGSs"
      }
    },
    {
      "cell_type": "code",
      "source": [
        "it = iter([1, 2, 3])\n",
        "print(next(it))  # Output: 1\n"
      ],
      "metadata": {
        "colab": {
          "base_uri": "https://localhost:8080/"
        },
        "id": "4xwUXqpSdtI4",
        "outputId": "5857778b-cdfe-476a-9f47-f1d01b5d7aa6"
      },
      "execution_count": null,
      "outputs": [
        {
          "output_type": "stream",
          "name": "stdout",
          "text": [
            "1\n"
          ]
        }
      ]
    },
    {
      "cell_type": "markdown",
      "source": [
        "Ques 6.Write a code that generates the squares of numbers from 1 to n using a generator.\n"
      ],
      "metadata": {
        "id": "p8Wac-q9fEGh"
      }
    },
    {
      "cell_type": "code",
      "source": [
        "def generate_squares(n):\n",
        "    for i in range(1, n + 1):\n",
        "        yield i ** 2\n",
        "\n",
        "# Example usage\n",
        "for square in generate_squares(5):\n",
        "    print(square)\n"
      ],
      "metadata": {
        "colab": {
          "base_uri": "https://localhost:8080/"
        },
        "id": "K1XlM2I0fFKp",
        "outputId": "95fb5e8e-f7b2-450d-b4eb-8682e7fd1496"
      },
      "execution_count": null,
      "outputs": [
        {
          "output_type": "stream",
          "name": "stdout",
          "text": [
            "1\n",
            "4\n",
            "9\n",
            "16\n",
            "25\n"
          ]
        }
      ]
    },
    {
      "cell_type": "markdown",
      "source": [
        "Ques 7.Write a code that generates palindromic numbers up to n using a generator."
      ],
      "metadata": {
        "id": "qCWlMxr0fMwh"
      }
    },
    {
      "cell_type": "code",
      "source": [
        "def generate_palindromes(n):\n",
        "    for i in range(1, n + 1):\n",
        "        if str(i) == str(i)[::-1]:\n",
        "            yield i\n",
        "\n",
        "# Example usage\n",
        "for palindrome in generate_palindromes(100):\n",
        "    print(palindrome)\n"
      ],
      "metadata": {
        "colab": {
          "base_uri": "https://localhost:8080/"
        },
        "id": "mPxd4yo2dt3u",
        "outputId": "b1329931-1192-4b80-bf2e-1c3d4a9fed42"
      },
      "execution_count": null,
      "outputs": [
        {
          "output_type": "stream",
          "name": "stdout",
          "text": [
            "1\n",
            "2\n",
            "3\n",
            "4\n",
            "5\n",
            "6\n",
            "7\n",
            "8\n",
            "9\n",
            "11\n",
            "22\n",
            "33\n",
            "44\n",
            "55\n",
            "66\n",
            "77\n",
            "88\n",
            "99\n"
          ]
        }
      ]
    },
    {
      "cell_type": "markdown",
      "source": [
        "Ques 8. Write a code that generates even numbers from 2 to n using a generator."
      ],
      "metadata": {
        "id": "kp7Z2S3BfTHi"
      }
    },
    {
      "cell_type": "code",
      "source": [
        "def generate_evens(n):\n",
        "    for i in range(2, n + 1, 2):\n",
        "        yield i\n",
        "\n",
        "# Example usage\n",
        "for even in generate_evens(10):\n",
        "    print(even)\n"
      ],
      "metadata": {
        "colab": {
          "base_uri": "https://localhost:8080/"
        },
        "id": "-lHngP7cfYGV",
        "outputId": "6ef9c29c-cd5f-4daf-e7d4-a22e76f53a0d"
      },
      "execution_count": null,
      "outputs": [
        {
          "output_type": "stream",
          "name": "stdout",
          "text": [
            "2\n",
            "4\n",
            "6\n",
            "8\n",
            "10\n"
          ]
        }
      ]
    },
    {
      "cell_type": "markdown",
      "source": [
        "Ques 9. Write a code that generates powers of two up to n using a generator."
      ],
      "metadata": {
        "id": "TB6AEjeyfXWA"
      }
    },
    {
      "cell_type": "code",
      "source": [
        "def generate_powers_of_two(n):\n",
        "    power = 1\n",
        "    while power <= n:\n",
        "        yield power\n",
        "        power *= 2\n",
        "\n",
        "# Example usage\n",
        "for power in generate_powers_of_two(32):\n",
        "    print(power)\n"
      ],
      "metadata": {
        "colab": {
          "base_uri": "https://localhost:8080/"
        },
        "id": "4W-GTEdUfvpf",
        "outputId": "7472aead-9795-4001-f95c-7f027ea6a9a8"
      },
      "execution_count": null,
      "outputs": [
        {
          "output_type": "stream",
          "name": "stdout",
          "text": [
            "1\n",
            "2\n",
            "4\n",
            "8\n",
            "16\n",
            "32\n"
          ]
        }
      ]
    },
    {
      "cell_type": "markdown",
      "source": [
        "Ques 10. Write a code that generates prime numbers up to n using a generator.\n",
        "\n"
      ],
      "metadata": {
        "id": "pWf9_VeefzDh"
      }
    },
    {
      "cell_type": "code",
      "source": [
        "def generate_primes(n):\n",
        "    def is_prime(num):\n",
        "        if num < 2:\n",
        "            return False\n",
        "        for i in range(2, int(num ** 0.5) + 1):\n",
        "            if num % i == 0:\n",
        "                return False\n",
        "        return True\n",
        "\n",
        "    for i in range(2, n + 1):\n",
        "        if is_prime(i):\n",
        "            yield i\n",
        "\n",
        "# Example usage\n",
        "for prime in generate_primes(50):\n",
        "    print(prime)\n"
      ],
      "metadata": {
        "colab": {
          "base_uri": "https://localhost:8080/"
        },
        "id": "x-o1jPLNf4Tl",
        "outputId": "b3052bcf-6a70-461b-e7fc-7dd6712d56e2"
      },
      "execution_count": null,
      "outputs": [
        {
          "output_type": "stream",
          "name": "stdout",
          "text": [
            "2\n",
            "3\n",
            "5\n",
            "7\n",
            "11\n",
            "13\n",
            "17\n",
            "19\n",
            "23\n",
            "29\n",
            "31\n",
            "37\n",
            "41\n",
            "43\n",
            "47\n"
          ]
        }
      ]
    },
    {
      "cell_type": "markdown",
      "source": [
        "Ques 11.Write a code that uses a lambda function to calculate the sum of two numbers."
      ],
      "metadata": {
        "id": "XRLYGmKjg3ak"
      }
    },
    {
      "cell_type": "code",
      "source": [
        "sum_numbers = lambda a, b: a + b\n",
        "print(sum_numbers(5, 7))  # Output: 12\n"
      ],
      "metadata": {
        "colab": {
          "base_uri": "https://localhost:8080/"
        },
        "id": "mxuiblyvg4Zf",
        "outputId": "e6bda620-79d2-4f2d-9f83-f69b00bc2094"
      },
      "execution_count": null,
      "outputs": [
        {
          "output_type": "stream",
          "name": "stdout",
          "text": [
            "12\n"
          ]
        }
      ]
    },
    {
      "cell_type": "markdown",
      "source": [
        "Ques 12.Write a code that uses a lambda function to calculate the square of a given number."
      ],
      "metadata": {
        "id": "JOWTWkGPg4w_"
      }
    },
    {
      "cell_type": "code",
      "source": [
        "square = lambda x: x ** 2\n",
        "print(square(4))  # Output: 16\n"
      ],
      "metadata": {
        "colab": {
          "base_uri": "https://localhost:8080/"
        },
        "id": "7fsMPVjWhTN5",
        "outputId": "51705fcc-8ce3-4208-bffd-5e003888f06c"
      },
      "execution_count": null,
      "outputs": [
        {
          "output_type": "stream",
          "name": "stdout",
          "text": [
            "16\n"
          ]
        }
      ]
    },
    {
      "cell_type": "markdown",
      "source": [
        "Ques 13. Write a code that uses a lambda function to check whether a given number is even or odd."
      ],
      "metadata": {
        "id": "VfaNSiWqg-nH"
      }
    },
    {
      "cell_type": "code",
      "source": [
        "is_even = lambda x: \"Even\" if x % 2 == 0 else \"Odd\"\n",
        "print(is_even(7))  # Output: Odd\n",
        "print(is_even(8))  # Output: Even\n"
      ],
      "metadata": {
        "colab": {
          "base_uri": "https://localhost:8080/"
        },
        "id": "wkEbYpwmhTwD",
        "outputId": "d598e262-ee69-4c1c-c8e5-8deca1bded90"
      },
      "execution_count": null,
      "outputs": [
        {
          "output_type": "stream",
          "name": "stdout",
          "text": [
            "Odd\n",
            "Even\n"
          ]
        }
      ]
    },
    {
      "cell_type": "markdown",
      "source": [
        "Ques 15.Write a code that uses a lambda function to concatenate two strings."
      ],
      "metadata": {
        "id": "DGitCLKVhDiF"
      }
    },
    {
      "cell_type": "code",
      "source": [
        "concatenate = lambda s1, s2: s1 + s2\n",
        "print(concatenate(\"Hello, \", \"World!\"))  # Output: Hello, World!\n"
      ],
      "metadata": {
        "colab": {
          "base_uri": "https://localhost:8080/"
        },
        "id": "_dNrSs83hUkO",
        "outputId": "a8134ff7-b276-4871-cfdf-68406e373429"
      },
      "execution_count": null,
      "outputs": [
        {
          "output_type": "stream",
          "name": "stdout",
          "text": [
            "Hello, World!\n"
          ]
        }
      ]
    },
    {
      "cell_type": "markdown",
      "source": [
        "Ques 16. Write a code that uses a lambda function to find the maximum of three given numbers."
      ],
      "metadata": {
        "id": "Fke3XyokhIy2"
      }
    },
    {
      "cell_type": "code",
      "source": [
        "max_of_three = lambda a, b, c: max(a, b, c)\n",
        "print(max_of_three(3, 7, 5))  # Output: 7\n"
      ],
      "metadata": {
        "colab": {
          "base_uri": "https://localhost:8080/"
        },
        "id": "EBBg4dV_hVPq",
        "outputId": "07571bfb-98e2-4fe7-a01e-29252c00ba25"
      },
      "execution_count": null,
      "outputs": [
        {
          "output_type": "stream",
          "name": "stdout",
          "text": [
            "7\n"
          ]
        }
      ]
    },
    {
      "cell_type": "markdown",
      "source": [
        "Ques 17.Write a code that generates the squares of even numbers from a given list."
      ],
      "metadata": {
        "id": "UqXut7NhhOd9"
      }
    },
    {
      "cell_type": "code",
      "source": [
        "nums = [1, 2, 3, 4, 5, 6]\n",
        "even_squares = [x**2 for x in nums if x % 2 == 0]\n",
        "print(even_squares)  # Output: [4, 16, 36]\n"
      ],
      "metadata": {
        "colab": {
          "base_uri": "https://localhost:8080/"
        },
        "id": "LHLP3DJElADx",
        "outputId": "498076ad-8d48-46f2-9cab-1e99be734b61"
      },
      "execution_count": null,
      "outputs": [
        {
          "output_type": "stream",
          "name": "stdout",
          "text": [
            "[4, 16, 36]\n"
          ]
        }
      ]
    },
    {
      "cell_type": "markdown",
      "source": [
        "Ques 18. Write a code that calculates the product of positive numbers from a given list."
      ],
      "metadata": {
        "id": "KGti-XE8jiQy"
      }
    },
    {
      "cell_type": "code",
      "source": [
        "from functools import reduce\n",
        "\n",
        "nums = [-1, 2, 3, -4, 5]\n",
        "product = reduce(lambda x, y: x * y, (x for x in nums if x > 0), 1)\n",
        "print(product)  # Output: 30\n"
      ],
      "metadata": {
        "colab": {
          "base_uri": "https://localhost:8080/"
        },
        "id": "hzj3YQfGlArn",
        "outputId": "16c4714f-28c7-4f65-9ccd-0b797750f40e"
      },
      "execution_count": null,
      "outputs": [
        {
          "output_type": "stream",
          "name": "stdout",
          "text": [
            "30\n"
          ]
        }
      ]
    },
    {
      "cell_type": "markdown",
      "source": [
        "Ques 19. Write a code that doubles the values of odd numbers from a given list."
      ],
      "metadata": {
        "id": "KpKCwtWIjrbL"
      }
    },
    {
      "cell_type": "code",
      "source": [
        "nums = [1, 2, 3, 4, 5]\n",
        "doubled_odds = [x * 2 if x % 2 != 0 else x for x in nums]\n",
        "print(doubled_odds)  # Output: [2, 2, 6, 4, 10]\n"
      ],
      "metadata": {
        "colab": {
          "base_uri": "https://localhost:8080/"
        },
        "id": "0paUfqR_lIgq",
        "outputId": "ddce9a23-220d-4427-f57a-8ba10ea2d398"
      },
      "execution_count": null,
      "outputs": [
        {
          "output_type": "stream",
          "name": "stdout",
          "text": [
            "[2, 2, 6, 4, 10]\n"
          ]
        }
      ]
    },
    {
      "cell_type": "markdown",
      "source": [
        "Ques 20. Write a code that calculates the sum of cubes of numbers from a given list."
      ],
      "metadata": {
        "id": "TgQphcP-jv88"
      }
    },
    {
      "cell_type": "code",
      "source": [
        "nums = [1, 2, 3, 4]\n",
        "sum_cubes = sum(x**3 for x in nums)\n",
        "print(sum_cubes)  # Output: 100\n"
      ],
      "metadata": {
        "colab": {
          "base_uri": "https://localhost:8080/"
        },
        "id": "TvLGY-PXlLby",
        "outputId": "50d774c0-bb95-4293-a1ea-300ac3f54a0c"
      },
      "execution_count": null,
      "outputs": [
        {
          "output_type": "stream",
          "name": "stdout",
          "text": [
            "100\n"
          ]
        }
      ]
    },
    {
      "cell_type": "markdown",
      "source": [
        "Ques 21. Write a code that filters out prime numbers from a given list."
      ],
      "metadata": {
        "id": "svXHWUzbj3TJ"
      }
    },
    {
      "cell_type": "code",
      "source": [
        "def is_prime(n):\n",
        "    if n < 2:\n",
        "        return False\n",
        "    for i in range(2, int(n**0.5) + 1):\n",
        "        if n % i == 0:\n",
        "            return False\n",
        "    return True\n",
        "\n",
        "nums = [1, 2, 3, 4, 5, 6, 7, 8, 9, 10]\n",
        "non_primes = [x for x in nums if not is_prime(x)]\n",
        "print(non_primes)  # Output: [1, 4, 6, 8, 9, 10]\n"
      ],
      "metadata": {
        "colab": {
          "base_uri": "https://localhost:8080/"
        },
        "id": "0jx2h8AblOOt",
        "outputId": "f58826a0-1b64-4f4d-c5b6-df3f60fe021a"
      },
      "execution_count": null,
      "outputs": [
        {
          "output_type": "stream",
          "name": "stdout",
          "text": [
            "[1, 4, 6, 8, 9, 10]\n"
          ]
        }
      ]
    },
    {
      "cell_type": "markdown",
      "source": [
        "Ques 22. Write a code that uses a lambda function to calculate the sum of two numbers."
      ],
      "metadata": {
        "id": "1MepZaO-j9se"
      }
    },
    {
      "cell_type": "code",
      "source": [
        "sum_numbers = lambda a, b: a + b\n",
        "print(sum_numbers(5, 7))  # Output: 12\n"
      ],
      "metadata": {
        "colab": {
          "base_uri": "https://localhost:8080/"
        },
        "id": "nWvIVX2plR_v",
        "outputId": "3a26062d-5fcb-443e-8487-1d6e2426bc0b"
      },
      "execution_count": null,
      "outputs": [
        {
          "output_type": "stream",
          "name": "stdout",
          "text": [
            "12\n"
          ]
        }
      ]
    },
    {
      "cell_type": "markdown",
      "source": [
        "Ques 23. Write a code that uses a lambda function to calculate the square of a given number."
      ],
      "metadata": {
        "id": "jD7JLYCKkCzL"
      }
    },
    {
      "cell_type": "code",
      "source": [
        "square = lambda x: x ** 2\n",
        "print(square(4))  # Output: 16\n"
      ],
      "metadata": {
        "colab": {
          "base_uri": "https://localhost:8080/"
        },
        "id": "omhHAGQmlVCz",
        "outputId": "44ae568f-f554-4bb9-d685-365d868a0a51"
      },
      "execution_count": null,
      "outputs": [
        {
          "output_type": "stream",
          "name": "stdout",
          "text": [
            "16\n"
          ]
        }
      ]
    },
    {
      "cell_type": "markdown",
      "source": [
        "Ques 24. Write a code that uses a lambda function to check whether a given number is even or odd."
      ],
      "metadata": {
        "id": "2PFpRxI4kM0K"
      }
    },
    {
      "cell_type": "code",
      "source": [
        "is_even = lambda x: \"Even\" if x % 2 == 0 else \"Odd\"\n",
        "print(is_even(7))  # Output: Odd\n",
        "print(is_even(8))  # Output: Even\n"
      ],
      "metadata": {
        "colab": {
          "base_uri": "https://localhost:8080/"
        },
        "id": "eUErXORuld4D",
        "outputId": "54750b7f-5edb-467a-8c96-8f9ff38718e4"
      },
      "execution_count": null,
      "outputs": [
        {
          "output_type": "stream",
          "name": "stdout",
          "text": [
            "Odd\n",
            "Even\n"
          ]
        }
      ]
    },
    {
      "cell_type": "markdown",
      "source": [
        "Ques 25. Write a code that uses a lambda function to concatenate two strings."
      ],
      "metadata": {
        "id": "pZKp0a2ukRVJ"
      }
    },
    {
      "cell_type": "code",
      "source": [
        "max_of_three = lambda a, b, c: max(a, b, c)\n",
        "print(max_of_three(3, 7, 5))  # Output: 7\n"
      ],
      "metadata": {
        "colab": {
          "base_uri": "https://localhost:8080/"
        },
        "id": "aisj99trlhcd",
        "outputId": "cebc622e-d9c6-48b2-ffaf-371af948d575"
      },
      "execution_count": null,
      "outputs": [
        {
          "output_type": "stream",
          "name": "stdout",
          "text": [
            "7\n"
          ]
        }
      ]
    },
    {
      "cell_type": "markdown",
      "source": [
        "Ques 26. Write a code that uses a lambda function to find the maximum of three given numbers."
      ],
      "metadata": {
        "id": "0tgXTQGEk6ZW"
      }
    },
    {
      "cell_type": "code",
      "source": [
        "max_of_three = lambda a, b, c: max(a, b, c)\n",
        "print(max_of_three(3, 7, 5))  # Output: 7\n"
      ],
      "metadata": {
        "colab": {
          "base_uri": "https://localhost:8080/"
        },
        "id": "iv3bhZLUlkSQ",
        "outputId": "1e500072-f4c8-4700-9b43-bf17f9b3bfe0"
      },
      "execution_count": null,
      "outputs": [
        {
          "output_type": "stream",
          "name": "stdout",
          "text": [
            "7\n"
          ]
        }
      ]
    },
    {
      "cell_type": "markdown",
      "source": [
        "Ques 27. What is encapsulation in OOP?\n",
        "# Encapsulation in OOP\n",
        "Encapsulation is the practice of bundling data (attributes) and methods (functions) into a single unit (class) and restricting access to the internal details using access specifiers like public, protected, and private.\n",
        "\n",
        "# Key Points\n",
        "1. Data Hiding: Restricts direct access to object data.\n",
        "2. Controlled Access: Use getter and setter methods for secure data access and modification.\n",
        "3. Benefits: Enhances security, reduces complexity, improves code maintainability, and ensures modularity."
      ],
      "metadata": {
        "id": "nOc23LLtlyqo"
      }
    },
    {
      "cell_type": "markdown",
      "source": [
        "Ques 28.Explain the use of access modifiers in Python classes.\n",
        "\n",
        "* Access Modifiers in Python Classes\n",
        "  * Access modifiers in Python are used to control the visibility and accessibility of class attributes and methods. Python provides three types of access modifiers:\n",
        "\n",
        "1. Public\n",
        "* Scope: Accessible everywhere.\n",
        "  * Example:\n",
        "    * self.name = \"Public\"\n",
        "2. Protected (_)\n",
        "* Scope: Accessible within the class and subclasses.\n",
        "  * Example:\n",
        "    * self._protected = \"Protected\"\n",
        "3. Private (__)\n",
        "* Scope: Accessible only within the class.\n",
        " * Example\n",
        "   * self.__private = \"Private\"\n"
      ],
      "metadata": {
        "id": "0EWcvuYk8-79"
      }
    },
    {
      "cell_type": "markdown",
      "source": [
        "Ques 29. What is inheritance in OOP.\n",
        "\n",
        "# Inheritance in OOP\n",
        "Inheritance is a core concept in Object-Oriented Programming (OOP) where a new class (child or subclass) inherits attributes and methods from an existing class (parent or superclass). It allows for code reusability, as the subclass can use, override, or extend the functionality of the parent class."
      ],
      "metadata": {
        "id": "-iN4hJcu-1sC"
      }
    },
    {
      "cell_type": "markdown",
      "source": [
        "Ques 30. Define polymorphism in OOP.\n",
        "\n",
        "# Polymorphism in OOP\n",
        "Polymorphism is a fundamental concept in Object-Oriented Programming (OOP) that allows objects of different classes to be treated as objects of a common parent class. The most important feature of polymorphism is that the same method or operator can behave differently depending on the object calling it."
      ],
      "metadata": {
        "id": "DXFF3Frh-7c-"
      }
    },
    {
      "cell_type": "markdown",
      "source": [
        "Ques 31. Explain method overriding in Python.\n",
        "\n",
        "Method overriding is a feature of object-oriented programming that allows a subclass to provide a specific implementation of a method that is already defined in its parent class. When a method is overridden, the version in the subclass takes precedence over the version in the parent class when called through an instance of the subclass."
      ],
      "metadata": {
        "id": "BwKQ3xke_EVh"
      }
    },
    {
      "cell_type": "markdown",
      "source": [
        " Ques 32. Define a parent class Animal with a method make_sound that prints \"Generic animal sound\". Create a child class Dog inheriting from Animal with a method make_sound that prints \"Woof!\".\n",
        "\n",
        "# Code Example: Parent and Child Classes with Method Overriding"
      ],
      "metadata": {
        "id": "GpUiBiZE_GeR"
      }
    },
    {
      "cell_type": "code",
      "source": [
        "# Parent class\n",
        "class Animal:\n",
        "    def make_sound(self):\n",
        "        print(\"Generic animal sound\")\n",
        "\n",
        "# Child class inheriting from Animal\n",
        "class Dog(Animal):\n",
        "    def make_sound(self):\n",
        "        print(\"Woof!\")\n",
        "\n",
        "# Creating objects\n",
        "animal = Animal()\n",
        "dog = Dog()\n",
        "\n",
        "# Calling the make_sound method\n",
        "animal.make_sound()  # Output: Generic animal sound\n",
        "dog.make_sound()     # Output: Woof!\n"
      ],
      "metadata": {
        "colab": {
          "base_uri": "https://localhost:8080/"
        },
        "id": "GwwodZo6bWFm",
        "outputId": "4da4659b-a1f7-4b15-d9dd-f477bb07f51b"
      },
      "execution_count": null,
      "outputs": [
        {
          "output_type": "stream",
          "name": "stdout",
          "text": [
            "Generic animal sound\n",
            "Woof!\n"
          ]
        }
      ]
    },
    {
      "cell_type": "markdown",
      "source": [
        "Ques 33. Define a method move in the Animal class that prints \"Animal moves\". Override the move method in the\n",
        "Dog class to print \"Dog runs.\n",
        "\n",
        "# Code Example: Overriding the move Method"
      ],
      "metadata": {
        "id": "kBZZlbkL_Qcu"
      }
    },
    {
      "cell_type": "code",
      "source": [
        "# Parent class\n",
        "class Animal:\n",
        "    def move(self):\n",
        "        print(\"Animal moves\")\n",
        "\n",
        "# Child class inheriting from Animal\n",
        "class Dog(Animal):\n",
        "    def move(self):\n",
        "        print(\"Dog runs\")\n",
        "\n",
        "# Creating objects\n",
        "animal = Animal()\n",
        "dog = Dog()\n",
        "\n",
        "# Calling the move method\n",
        "animal.move()  # Output: Animal moves\n",
        "dog.move()     # Output: Dog runs\n"
      ],
      "metadata": {
        "colab": {
          "base_uri": "https://localhost:8080/"
        },
        "id": "jBYxUn6Pl9XX",
        "outputId": "a7671060-7cfa-4e95-c262-2b2b8acfe05c"
      },
      "execution_count": null,
      "outputs": [
        {
          "output_type": "stream",
          "name": "stdout",
          "text": [
            "Animal moves\n",
            "Dog runs\n"
          ]
        }
      ]
    },
    {
      "cell_type": "markdown",
      "source": [
        "Ques 34.Create a class Mammal with a method reproduce that prints \"Giving birth to live young.\" Create a class DogMammal inheriting from both Dog and Mammal.\n",
        "\n",
        "# Code Example: Multiple Inheritance with Dog and Mammal"
      ],
      "metadata": {
        "id": "_5xB417Vb772"
      }
    },
    {
      "cell_type": "code",
      "source": [
        "# Parent class 1\n",
        "class Mammal:\n",
        "    def reproduce(self):\n",
        "        print(\"Giving birth to live young.\")\n",
        "\n",
        "# Parent class 2\n",
        "class Animal:\n",
        "    def move(self):\n",
        "        print(\"Animal moves\")\n",
        "\n",
        "class Dog(Animal):\n",
        "    def make_sound(self):\n",
        "        print(\"Woof!\")\n",
        "\n",
        "# Child class inheriting from both Dog and Mammal\n",
        "class DogMammal(Dog, Mammal):\n",
        "    pass\n",
        "\n",
        "# Creating an object of DogMammal\n",
        "dog_mammal = DogMammal()\n",
        "\n",
        "# Calling methods from both parent classes\n",
        "dog_mammal.make_sound()  # Output: Woof!\n",
        "dog_mammal.reproduce()   # Output: Giving birth to live young.\n",
        "dog_mammal.move()        # Output: Animal moves\n"
      ],
      "metadata": {
        "colab": {
          "base_uri": "https://localhost:8080/"
        },
        "id": "HmYyvxIAcKRj",
        "outputId": "795cbd1c-8cfe-4fc4-c4dd-df0b34bfdeb7"
      },
      "execution_count": null,
      "outputs": [
        {
          "output_type": "stream",
          "name": "stdout",
          "text": [
            "Woof!\n",
            "Giving birth to live young.\n",
            "Animal moves\n"
          ]
        }
      ]
    },
    {
      "cell_type": "markdown",
      "source": [
        "Ques 35.Create a class GermanShepherd inheriting from Dog and override the make_sound method to print\"Bark!\n",
        "\n",
        "# Code Example: GermanShepherd Class with Overridden make_sound"
      ],
      "metadata": {
        "id": "ASjO38ywcn1P"
      }
    },
    {
      "cell_type": "code",
      "source": [
        "# Parent class\n",
        "class Dog:\n",
        "    def make_sound(self):\n",
        "        print(\"Woof!\")\n",
        "\n",
        "# Child class inheriting from Dog\n",
        "class GermanShepherd(Dog):\n",
        "    def make_sound(self):\n",
        "        print(\"Bark!\")\n",
        "\n",
        "# Creating objects\n",
        "dog = Dog()\n",
        "german_shepherd = GermanShepherd()\n",
        "\n",
        "# Calling the make_sound method\n",
        "dog.make_sound()               # Output: Woof!\n",
        "german_shepherd.make_sound()   # Output: Bark!\n"
      ],
      "metadata": {
        "colab": {
          "base_uri": "https://localhost:8080/"
        },
        "id": "JwjHWaC4dAPQ",
        "outputId": "a6c1d528-4fa1-450e-f173-1eb9457dcf59"
      },
      "execution_count": null,
      "outputs": [
        {
          "output_type": "stream",
          "name": "stdout",
          "text": [
            "Woof!\n",
            "Bark!\n"
          ]
        }
      ]
    },
    {
      "cell_type": "markdown",
      "source": [
        "Ques 36.Define constructors in both the Animal and Dog classes with different initialization parameters.\n",
        "# Code Example: Constructors in Animal and Dog Classes"
      ],
      "metadata": {
        "id": "1g5iKYqidCSB"
      }
    },
    {
      "cell_type": "code",
      "source": [
        "# Parent class\n",
        "class Animal:\n",
        "    def __init__(self, species):\n",
        "        self.species = species\n",
        "        print(f\"Animal constructor called: Species is {self.species}\")\n",
        "\n",
        "# Child class inheriting from Animal\n",
        "class Dog(Animal):\n",
        "    def __init__(self, species, breed):\n",
        "        # Call the constructor of the parent class\n",
        "        super().__init__(species)\n",
        "        self.breed = breed\n",
        "        print(f\"Dog constructor called: Breed is {self.breed}\")\n",
        "\n",
        "# Creating an object of the Dog class\n",
        "dog = Dog(\"Canine\", \"Labrador\")\n"
      ],
      "metadata": {
        "colab": {
          "base_uri": "https://localhost:8080/"
        },
        "id": "ILTJBY_UdBNG",
        "outputId": "6572673d-cd6c-44a2-f169-a6951020b5e5"
      },
      "execution_count": null,
      "outputs": [
        {
          "output_type": "stream",
          "name": "stdout",
          "text": [
            "Animal constructor called: Species is Canine\n",
            "Dog constructor called: Breed is Labrador\n"
          ]
        }
      ]
    },
    {
      "cell_type": "markdown",
      "source": [
        "Ques 37.What is abstraction in Python? How is it implemented.\n",
        "# Abstraction in Python\n",
        "Abstraction is the process of hiding the internal implementation details of a feature and exposing only the necessary functionality. It focuses on what an object does rather than how it does it. Abstraction simplifies complex systems by breaking them into smaller, more manageable components.\n",
        "\n",
        "# How to Implement Abstraction in Python\n",
        "Python provides the abc module for creating abstract classes and methods. An abstract class cannot be instantiated and typically includes one or more abstract methods that must be implemented by subclasses.\n"
      ],
      "metadata": {
        "id": "GtGa4JwKdk9K"
      }
    },
    {
      "cell_type": "code",
      "source": [
        "from abc import ABC, abstractmethod\n",
        "\n",
        "# Abstract class\n",
        "class Animal(ABC):\n",
        "    @abstractmethod\n",
        "    def make_sound(self):\n",
        "        pass  # Abstract method (must be implemented by subclasses)\n",
        "\n",
        "# Concrete subclass\n",
        "class Dog(Animal):\n",
        "    def make_sound(self):\n",
        "        print(\"Woof!\")\n",
        "\n",
        "class Cat(Animal):\n",
        "    def make_sound(self):\n",
        "        print(\"Meow!\")\n",
        "\n",
        "# Using the subclasses\n",
        "dog = Dog()\n",
        "dog.make_sound()  # Output: Woof!\n",
        "\n",
        "cat = Cat()\n",
        "cat.make_sound()  # Output: Meow!\n",
        "\n",
        "# animal = Animal()  # Raises TypeError: Can't instantiate abstract class\n"
      ],
      "metadata": {
        "colab": {
          "base_uri": "https://localhost:8080/"
        },
        "id": "m47Io0fSdV_t",
        "outputId": "8e665cad-048c-419c-eb56-81b9dc05a145"
      },
      "execution_count": null,
      "outputs": [
        {
          "output_type": "stream",
          "name": "stdout",
          "text": [
            "Woof!\n",
            "Meow!\n"
          ]
        }
      ]
    },
    {
      "cell_type": "markdown",
      "source": [
        " Ques 38.Explain the importance of abstraction in object-oriented programming.\n",
        "# Importance of Abstraction in OOP\n",
        "1. Simplifies Complexity: Focuses on essential features, hiding unnecessary details.\n",
        " * Example: Call a drive() method on a Car without knowing engine details.\n",
        "\n",
        "2. Promotes Modularity: Breaks programs into manageable parts for easier maintenance.\n",
        "3. Enhances Reusability: Abstract classes define shared behavior reusable across subclasses.\n",
        "  * Example: A Shape class used by Circle and Rectangle.\n",
        "\n",
        "4. Facilitates Scalability: Ensures future extensions fit a common interface.\n",
        "  * Example: Adding new shapes to a Shape hierarchy.\n",
        "\n",
        "5. Supports Polymorphism: Enables uniform treatment of objects.\n",
        "  * Example: Treat Dog and Cat as Animal using a common method.\n",
        "\n",
        "6. Improves Security: Hides internal implementation details, reducing misuse risks.\n",
        "\n",
        "Conclusion: Abstraction simplifies design, promotes reusability, and ensures maintainability in complex systems."
      ],
      "metadata": {
        "id": "yijW6wi0enQg"
      }
    },
    {
      "cell_type": "markdown",
      "source": [
        "Ques 39.How are abstract methods different from regular methods in Python.\n",
        "\n",
        "\n",
        "# Abstract Methods\n",
        "* Definition: Methods defined in an abstract class using the @abstractmethod decorator.\n",
        "* Purpose: To define a method signature that must be implemented by subclasses.\n",
        "* Implementation: No body or logic. Only the method signature is defined.\n",
        "* Instantiation: Cannot instantiate an abstract class directly.\n",
        "* Requirement: Subclasses must implement abstract methods to be instantiated.\n",
        "\n",
        "# Regular Methods\n",
        "* Definition: Normal methods defined in any class without the @abstractmethod decorator.\n",
        "* Purpose: To provide concrete functionality or behavior that can be used directly or overridden.\n",
        "* Implementation: Contain both method signature and the logic (body).\n",
        "* Instantiation: Can instantiate a class with regular methods directly.\n",
        "* Requirement: Subclasses may override regular methods but are not required to.\n",
        "\n",
        "\n",
        "\n"
      ],
      "metadata": {
        "id": "621l_-rQfli6"
      }
    },
    {
      "cell_type": "markdown",
      "source": [
        "Ques 40.How can you achieve abstraction using interfaces in Python.\n",
        "\n",
        "ques 41. Can you provide an example of how abstraction can be utilized to create a common interface for a group of related classes in Python.\n",
        "\n",
        "# Achieve Abstraction Using Interfaces in Python:\n",
        "* Define an Interface: Use an abstract base class with abstract methods to define the interface.\n",
        "* Implement the Interface: Subclasses must provide concrete implementations for the abstract methods.\n",
        "\n",
        "# Code Example: Using ABC to Simulate an Interface"
      ],
      "metadata": {
        "id": "Fy0OtuDJiIFQ"
      }
    },
    {
      "cell_type": "code",
      "source": [
        "from abc import ABC, abstractmethod\n",
        "\n",
        "# Defining the Interface (abstract class)\n",
        "class Animal(ABC):\n",
        "    @abstractmethod\n",
        "    def make_sound(self):\n",
        "        pass\n",
        "\n",
        "    @abstractmethod\n",
        "    def move(self):\n",
        "        pass\n",
        "\n",
        "# Concrete Class implementing the interface\n",
        "class Dog(Animal):\n",
        "    def make_sound(self):\n",
        "        print(\"Woof!\")\n",
        "\n",
        "    def move(self):\n",
        "        print(\"Dog runs!\")\n",
        "\n",
        "# Another Concrete Class implementing the interface\n",
        "class Cat(Animal):\n",
        "    def make_sound(self):\n",
        "        print(\"Meow!\")\n",
        "\n",
        "    def move(self):\n",
        "        print(\"Cat walks!\")\n",
        "\n",
        "# Creating instances\n",
        "dog = Dog()\n",
        "cat = Cat()\n",
        "\n",
        "# Calling methods\n",
        "dog.make_sound()  # Output: Woof!\n",
        "dog.move()        # Output: Dog runs!\n",
        "\n",
        "cat.make_sound()  # Output: Meow!\n",
        "cat.move()        # Output: Cat walks!\n"
      ],
      "metadata": {
        "id": "_iLQzjqgeWHY",
        "colab": {
          "base_uri": "https://localhost:8080/"
        },
        "outputId": "95d1b5e7-4020-4cf5-9176-06ce155fcbdd"
      },
      "execution_count": 1,
      "outputs": [
        {
          "output_type": "stream",
          "name": "stdout",
          "text": [
            "Woof!\n",
            "Dog runs!\n",
            "Meow!\n",
            "Cat walks!\n"
          ]
        }
      ]
    },
    {
      "cell_type": "markdown",
      "source": [
        " Ques 42.  How does Python achieve polymorphism through method overriding.\n",
        "\n",
        " Polymorphism in Python allows methods in different classes to share the same name but behave differently based on the object calling the method. Python achieves this through method overriding, where a subclass provides its own implementation of a method already defined in the parent class.\n",
        "\n"
      ],
      "metadata": {
        "id": "ZLUxr-Ec5pOM"
      }
    },
    {
      "cell_type": "markdown",
      "source": [
        "Ques 43.Define a base class with a method and a subclass that overrides the\n",
        "        method.\n",
        "\n",
        "\n",
        "# Code Example: Base Class and Subclass with Method Overriding\n",
        "* Base Class:\n",
        "The base class defines a general method.\n",
        "\n",
        "* Subclass:\n",
        "The subclass overrides the method to provide specific behavior.\n",
        "\n"
      ],
      "metadata": {
        "id": "DIvfpzYV7JHY"
      }
    },
    {
      "cell_type": "code",
      "source": [
        "# Defining the base class\n",
        "class Animal:\n",
        "    def make_sound(self):  # Base class method\n",
        "        print(\"Generic animal sound\")\n",
        "\n",
        "# Defining the subclass\n",
        "class Dog(Animal):\n",
        "    def make_sound(self):  # Overriding the method in the base class\n",
        "        print(\"Woof!\")\n",
        "\n",
        "# Creating objects\n",
        "animal = Animal()\n",
        "dog = Dog()\n",
        "\n",
        "# Calling the method\n",
        "animal.make_sound()  # Output: Generic animal sound\n",
        "dog.make_sound()     # Output: Woof!\n"
      ],
      "metadata": {
        "colab": {
          "base_uri": "https://localhost:8080/"
        },
        "id": "rHU93ltx8Q2J",
        "outputId": "43229bff-eacb-4b58-a8fe-8131282385d7"
      },
      "execution_count": 2,
      "outputs": [
        {
          "output_type": "stream",
          "name": "stdout",
          "text": [
            "Generic animal sound\n",
            "Woof!\n"
          ]
        }
      ]
    },
    {
      "cell_type": "markdown",
      "source": [
        "Ques 44. Define a base class and multiple subclasses with overridden\n",
        "methods.\n",
        "\n",
        "# Code Example: Base Class and Multiple Subclasses with Overridden Methods"
      ],
      "metadata": {
        "id": "BqOUG8Bz8TP-"
      }
    },
    {
      "cell_type": "code",
      "source": [
        "# Defining the base class\n",
        "class Animal:\n",
        "    def make_sound(self):  # Base class method\n",
        "        print(\"Generic animal sound\")\n",
        "\n",
        "# Subclass 1: Dog\n",
        "class Dog(Animal):\n",
        "    def make_sound(self):  # Overriding the base class method\n",
        "        print(\"Woof!\")\n",
        "\n",
        "# Subclass 2: Cat\n",
        "class Cat(Animal):\n",
        "    def make_sound(self):  # Overriding the base class method\n",
        "        print(\"Meow!\")\n",
        "\n",
        "# Subclass 3: Cow\n",
        "class Cow(Animal):\n",
        "    def make_sound(self):  # Overriding the base class method\n",
        "        print(\"Moo!\")\n"
      ],
      "metadata": {
        "id": "HOtGBnHj8R_D"
      },
      "execution_count": 4,
      "outputs": []
    },
    {
      "cell_type": "code",
      "source": [
        "# Creating a list of objects from different subclasses\n",
        "animals = [Dog(), Cat(), Cow(), Animal()]\n",
        "\n",
        "# Calling the overridden method on each object\n",
        "for animal in animals:\n",
        "    animal.make_sound()\n"
      ],
      "metadata": {
        "colab": {
          "base_uri": "https://localhost:8080/"
        },
        "id": "DNmfgYxM8_FT",
        "outputId": "37ba8915-1478-4d48-9d82-1a7e18e47267"
      },
      "execution_count": 5,
      "outputs": [
        {
          "output_type": "stream",
          "name": "stdout",
          "text": [
            "Woof!\n",
            "Meow!\n",
            "Moo!\n",
            "Generic animal sound\n"
          ]
        }
      ]
    },
    {
      "cell_type": "markdown",
      "source": [
        "\n",
        "Ques 45.How does polymorphism improve code readability and reusability?\n",
        "\n",
        "# How Polymorphism Improves Code Readability and Reusability\n",
        "1. Unified Interface: Enables consistent method names (e.g., make_sound()), making code easier to read.\n",
        "2. Flexibility: Generic code works with multiple object types, reducing redundancy.\n",
        "3.  Extensibility: New classes can be added without modifying existing code.\n",
        "4. Maintenance: Centralized behavior simplifies updates and reduces duplication."
      ],
      "metadata": {
        "id": "CBrgYk118v0a"
      }
    },
    {
      "cell_type": "markdown",
      "source": [
        "Ques 46. Describe how Python supports polymorphism with duck typing.\n",
        "\n",
        "# Python Polymorphism with Duck Typing\n",
        "1. What is Duck Typing?\n",
        "\n",
        "* Duck typing relies on an object's behavior rather than its actual type.\n",
        "* If an object has the required method or attribute, it can be used, regardless of its class.\n",
        "2. Polymorphism in Action\n",
        "\n",
        "* Python uses duck typing to achieve polymorphism, allowing objects of different types to be used interchangeably if they implement the required methods.\n",
        "\n",
        "* Example"
      ],
      "metadata": {
        "id": "cDSdlXPA-Ggt"
      }
    },
    {
      "cell_type": "code",
      "source": [
        "class Dog:\n",
        "    def make_sound(self):\n",
        "        print(\"Woof!\")\n",
        "\n",
        "class Cat:\n",
        "    def make_sound(self):\n",
        "        print(\"Meow!\")\n",
        "\n",
        "def animal_sound(animal):\n",
        "    animal.make_sound()  # Works for any object with a 'make_sound' method\n",
        "\n",
        "animal_sound(Dog())  # Woof!\n",
        "animal_sound(Cat())  # Meow!\n"
      ],
      "metadata": {
        "colab": {
          "base_uri": "https://localhost:8080/"
        },
        "id": "qSD_98LC8pnm",
        "outputId": "c6b4b511-d347-42e7-b795-583054850330"
      },
      "execution_count": 6,
      "outputs": [
        {
          "output_type": "stream",
          "name": "stdout",
          "text": [
            "Woof!\n",
            "Meow!\n"
          ]
        }
      ]
    },
    {
      "cell_type": "markdown",
      "source": [
        "Ques 47.How do you achieve encapsulation in Python?\n",
        "\n",
        "# Achieving Encapsulation in Python\n",
        "Encapsulation is one of the core concepts of object-oriented programming, which involves bundling data (attributes) and methods that operate on the data into a single unit, and restricting access to some of the object's components.\n",
        "\n",
        "In Python, encapsulation is implemented using access modifiers to control access to the attributes and methods."
      ],
      "metadata": {
        "id": "2DgY9b01_CTk"
      }
    },
    {
      "cell_type": "markdown",
      "source": [
        "Ques 48.Can encapsulation be bypassed in Python? If so, how?\n",
        "\n",
        "Yes, encapsulation can be bypassed in Python, mainly because Python does not enforce strict access control like some other programming languages (e.g., Java or C++). While it provides access modifiers such as public, protected, and private, Python relies on a convention-based approach (using underscores) rather than enforcing strict rules.\n",
        "\n",
        "# How Encapsulation Can Be Bypassed:"
      ],
      "metadata": {
        "id": "xLZBketkAOeA"
      }
    },
    {
      "cell_type": "code",
      "source": [
        "class Dog:\n",
        "    def __init__(self, name):\n",
        "        self._name = name  # Protected attribute\n",
        "\n",
        "dog = Dog(\"Buddy\")\n",
        "print(dog._name)  # Accessing protected attribute directly\n"
      ],
      "metadata": {
        "colab": {
          "base_uri": "https://localhost:8080/"
        },
        "id": "sY5e0xxS-9CU",
        "outputId": "9a70b2a2-31e1-4f30-bdc5-1060974abdeb"
      },
      "execution_count": 7,
      "outputs": [
        {
          "output_type": "stream",
          "name": "stdout",
          "text": [
            "Buddy\n"
          ]
        }
      ]
    },
    {
      "cell_type": "code",
      "source": [
        "class Dog:\n",
        "    def __init__(self, name):\n",
        "        self.__name = name  # Private attribute\n",
        "\n",
        "dog = Dog(\"Buddy\")\n",
        "print(dog._Dog__name)  # Accessing private attribute using name mangling\n"
      ],
      "metadata": {
        "colab": {
          "base_uri": "https://localhost:8080/"
        },
        "id": "fcAJu7nuBKMu",
        "outputId": "e97f4b04-67d2-436d-cb33-91e34dc4c241"
      },
      "execution_count": 8,
      "outputs": [
        {
          "output_type": "stream",
          "name": "stdout",
          "text": [
            "Buddy\n"
          ]
        }
      ]
    },
    {
      "cell_type": "markdown",
      "source": [
        "Ques 49.Implement a class BankAccount with a private balance attribute. Include methods to deposit, withdraw,\n",
        "and check the balance.\n"
      ],
      "metadata": {
        "id": "2wi7oOz2BQNk"
      }
    },
    {
      "cell_type": "code",
      "source": [
        "class BankAccount:\n",
        "    def __init__(self, initial_balance=0):\n",
        "        # Private balance attribute\n",
        "        self.__balance = initial_balance\n",
        "\n",
        "    def deposit(self, amount):\n",
        "        \"\"\"Deposit money into the account.\"\"\"\n",
        "        if amount > 0:\n",
        "            self.__balance += amount\n",
        "            print(f\"Deposited {amount}. New balance: {self.__balance}\")\n",
        "        else:\n",
        "            print(\"Deposit amount must be positive.\")\n",
        "\n",
        "    def withdraw(self, amount):\n",
        "        \"\"\"Withdraw money from the account.\"\"\"\n",
        "        if amount <= self.__balance:\n",
        "            if amount > 0:\n",
        "                self.__balance -= amount\n",
        "                print(f\"Withdrew {amount}. New balance: {self.__balance}\")\n",
        "            else:\n",
        "                print(\"Withdrawal amount must be positive.\")\n",
        "        else:\n",
        "            print(\"Insufficient funds.\")\n",
        "\n",
        "    def check_balance(self):\n",
        "        \"\"\"Check the current balance of the account.\"\"\"\n",
        "        print(f\"Current balance: {self.__balance}\")\n",
        "\n",
        "# Example usage\n",
        "account = BankAccount(1000)  # Initializing account with 1000\n",
        "account.check_balance()       # Check initial balance\n",
        "account.deposit(500)          # Deposit 500\n",
        "account.withdraw(200)         # Withdraw 200\n",
        "account.check_balance()       # Check balance after transactions\n",
        "account.withdraw(2000)        # Try to withdraw more than balance\n"
      ],
      "metadata": {
        "colab": {
          "base_uri": "https://localhost:8080/"
        },
        "id": "wqxrW4THBNwb",
        "outputId": "d94a0a40-1e46-46e3-80f2-4af095239111"
      },
      "execution_count": 9,
      "outputs": [
        {
          "output_type": "stream",
          "name": "stdout",
          "text": [
            "Current balance: 1000\n",
            "Deposited 500. New balance: 1500\n",
            "Withdrew 200. New balance: 1300\n",
            "Current balance: 1300\n",
            "Insufficient funds.\n"
          ]
        }
      ]
    },
    {
      "cell_type": "markdown",
      "source": [
        "Ques 50. Develop a Person class with private attributes name and email, and methods to set and get the email."
      ],
      "metadata": {
        "id": "qdQLufcQEPkd"
      }
    },
    {
      "cell_type": "code",
      "source": [
        "class Person:\n",
        "    def __init__(self, name, email):\n",
        "        # Private attributes\n",
        "        self.__name = name\n",
        "        self.__email = email\n",
        "\n",
        "    def set_email(self, email):\n",
        "        \"\"\"Set the email address.\"\"\"\n",
        "        self.__email = email\n",
        "\n",
        "    def get_email(self):\n",
        "        \"\"\"Get the email address.\"\"\"\n",
        "        return self.__email\n",
        "\n",
        "    def display_info(self):\n",
        "        \"\"\"Display the person's name and email.\"\"\"\n",
        "        print(f\"Name: {self.__name}\")\n",
        "        print(f\"Email: {self.__email}\")\n",
        "\n",
        "# Example usage\n",
        "person = Person(\"John Doe\", \"john.doe@example.com\")  # Initializing with name and email\n",
        "person.display_info()  # Display person's info\n",
        "person.set_email(\"john.newemail@example.com\")  # Changing the email\n",
        "print(\"Updated Email:\", person.get_email())  # Getting the updated email\n"
      ],
      "metadata": {
        "colab": {
          "base_uri": "https://localhost:8080/"
        },
        "id": "iKBaV56_Dwx0",
        "outputId": "08da9a65-8891-4adc-9a3a-10ad53d8f184"
      },
      "execution_count": 10,
      "outputs": [
        {
          "output_type": "stream",
          "name": "stdout",
          "text": [
            "Name: John Doe\n",
            "Email: john.doe@example.com\n",
            "Updated Email: john.newemail@example.com\n"
          ]
        }
      ]
    },
    {
      "cell_type": "markdown",
      "source": [
        "Ques 51. Why is encapsulation considered a pillar of object-oriented programming (OOP).\n",
        "\n",
        "\n",
        "# Why Encapsulation is a Pillar of OOP\n",
        "1. Data Hiding: Encapsulation hides the internal state of an object and allows access only through methods, protecting data from unauthorized changes.\n",
        "\n",
        "2. Control Over Data: It enables validation or business logic before modifying data, ensuring data integrity.\n",
        "\n",
        "3. Modularity: Organizes code into independent classes, each managing its own data and behavior, making the system easier to maintain.\n",
        "\n",
        "4. Flexibility & Maintainability: Internal implementation changes don’t affect the external interface, promoting flexibility and ease of maintenance.\n",
        "\n",
        "5. Reduces Complexity: Hides unnecessary details, providing a simpler interface to interact with.\n",
        "\n",
        "6. Security: Keeps sensitive data secure by restricting direct access to it.\n",
        "\n"
      ],
      "metadata": {
        "id": "ki01sVcNFqHZ"
      }
    },
    {
      "cell_type": "markdown",
      "source": [
        "Ques 52.Create a decorator in Python that adds functionality to a simple function by printing a message before and after the function execution.\n",
        "\n",
        "\n",
        "* Here’s a simple implementation of a decorator in Python that adds functionality by printing messages before and after the execution of a function:"
      ],
      "metadata": {
        "id": "fJgIrPxcGR9m"
      }
    },
    {
      "cell_type": "code",
      "source": [
        "def add_messages_decorator(func):\n",
        "    \"\"\"Decorator to add messages before and after a function's execution.\"\"\"\n",
        "    def wrapper(*args, **kwargs):\n",
        "        print(\"Starting the function execution...\")\n",
        "        result = func(*args, **kwargs)\n",
        "        print(\"Function execution completed.\")\n",
        "        return result\n",
        "    return wrapper\n",
        "\n",
        "# Example usage\n",
        "@add_messages_decorator\n",
        "def greet(name):\n",
        "    print(f\"Hello, {name}!\")\n",
        "\n",
        "# Call the decorated function\n",
        "greet(\"Alice\")\n"
      ],
      "metadata": {
        "colab": {
          "base_uri": "https://localhost:8080/"
        },
        "id": "AzUtBuoyFk6X",
        "outputId": "1960f70e-2f17-45ee-dcac-8606eb2604bc"
      },
      "execution_count": 1,
      "outputs": [
        {
          "output_type": "stream",
          "name": "stdout",
          "text": [
            "Starting the function execution...\n",
            "Hello, Alice!\n",
            "Function execution completed.\n"
          ]
        }
      ]
    },
    {
      "cell_type": "markdown",
      "source": [
        "Ques 53. Modify the decorator to accept arguments and print the function name along with the message.\n",
        "\n",
        "# Code Example"
      ],
      "metadata": {
        "id": "Ejs07dO-CMvb"
      }
    },
    {
      "cell_type": "code",
      "source": [
        "def add_messages_decorator(func):\n",
        "    \"\"\"Decorator to add messages before and after a function's execution.\"\"\"\n",
        "    def wrapper(*args, **kwargs):\n",
        "        print(f\"Starting the execution of '{func.__name__}'...\")\n",
        "        result = func(*args, **kwargs)\n",
        "        print(f\"Execution of '{func.__name__}' completed.\")\n",
        "        return result\n",
        "    return wrapper\n",
        "\n",
        "# Example usage\n",
        "@add_messages_decorator\n",
        "def greet(name):\n",
        "    print(f\"Hello, {name}!\")\n",
        "\n",
        "@add_messages_decorator\n",
        "def add(a, b):\n",
        "    print(f\"The sum is {a + b}\")\n",
        "\n",
        "# Call the decorated functions\n",
        "greet(\"Alice\")\n",
        "add(5, 3)\n"
      ],
      "metadata": {
        "colab": {
          "base_uri": "https://localhost:8080/"
        },
        "id": "eYv0N695CGCT",
        "outputId": "f4f1ce45-6e5c-4043-8b1e-0314b516915d"
      },
      "execution_count": 2,
      "outputs": [
        {
          "output_type": "stream",
          "name": "stdout",
          "text": [
            "Starting the execution of 'greet'...\n",
            "Hello, Alice!\n",
            "Execution of 'greet' completed.\n",
            "Starting the execution of 'add'...\n",
            "The sum is 8\n",
            "Execution of 'add' completed.\n"
          ]
        }
      ]
    },
    {
      "cell_type": "markdown",
      "source": [
        "Ques 54.Create two decorators, and apply them to a single function. Ensure that they execute in the order they are\n",
        "applied.\n",
        "\n",
        "\n",
        "# Here’s an example"
      ],
      "metadata": {
        "id": "fXs_u1YYC1Rm"
      }
    },
    {
      "cell_type": "code",
      "source": [
        "def decorator_one(func):\n",
        "    \"\"\"First decorator.\"\"\"\n",
        "    def wrapper(*args, **kwargs):\n",
        "        print(\"Decorator One: Before function execution\")\n",
        "        result = func(*args, **kwargs)\n",
        "        print(\"Decorator One: After function execution\")\n",
        "        return result\n",
        "    return wrapper\n",
        "\n",
        "def decorator_two(func):\n",
        "    \"\"\"Second decorator.\"\"\"\n",
        "    def wrapper(*args, **kwargs):\n",
        "        print(\"Decorator Two: Before function execution\")\n",
        "        result = func(*args, **kwargs)\n",
        "        print(\"Decorator Two: After function execution\")\n",
        "        return result\n",
        "    return wrapper\n",
        "\n",
        "# Applying both decorators\n",
        "@decorator_one\n",
        "@decorator_two\n",
        "def my_function():\n",
        "    print(\"Executing the main function!\")\n",
        "\n",
        "# Call the decorated function\n",
        "my_function()\n"
      ],
      "metadata": {
        "colab": {
          "base_uri": "https://localhost:8080/"
        },
        "id": "NUmhoqYVCz92",
        "outputId": "cfd03612-b10f-40d5-dfba-fa9f4cb79f58"
      },
      "execution_count": 3,
      "outputs": [
        {
          "output_type": "stream",
          "name": "stdout",
          "text": [
            "Decorator One: Before function execution\n",
            "Decorator Two: Before function execution\n",
            "Executing the main function!\n",
            "Decorator Two: After function execution\n",
            "Decorator One: After function execution\n"
          ]
        }
      ]
    },
    {
      "cell_type": "markdown",
      "source": [
        "Ques 55. Modify the decorator to accept and pass function arguments to the wrapped function."
      ],
      "metadata": {
        "id": "uoz_2BOaDh_w"
      }
    },
    {
      "cell_type": "code",
      "source": [
        "def add_messages_decorator(func):\n",
        "    \"\"\"Decorator to add messages before and after a function's execution.\"\"\"\n",
        "    def wrapper(*args, **kwargs):\n",
        "        print(f\"Starting the execution of '{func.__name__}' with arguments: {args}, {kwargs}\")\n",
        "        result = func(*args, **kwargs)\n",
        "        print(f\"Execution of '{func.__name__}' completed.\")\n",
        "        return result\n",
        "    return wrapper\n",
        "\n",
        "# Example usage\n",
        "@add_messages_decorator\n",
        "def greet(name, age=None):\n",
        "    if age:\n",
        "        print(f\"Hello, {name}! You are {age} years old.\")\n",
        "    else:\n",
        "        print(f\"Hello, {name}!\")\n",
        "\n",
        "@add_messages_decorator\n",
        "def add(a, b):\n",
        "    return a + b\n",
        "\n",
        "# Call the decorated functions\n",
        "greet(\"Alice\", age=25)\n",
        "result = add(5, 3)\n",
        "print(\"Result of addition:\", result)\n"
      ],
      "metadata": {
        "colab": {
          "base_uri": "https://localhost:8080/"
        },
        "id": "QxJALu6GDxkr",
        "outputId": "219b7e67-be47-412f-8236-23b5fd9d2df7"
      },
      "execution_count": 4,
      "outputs": [
        {
          "output_type": "stream",
          "name": "stdout",
          "text": [
            "Starting the execution of 'greet' with arguments: ('Alice',), {'age': 25}\n",
            "Hello, Alice! You are 25 years old.\n",
            "Execution of 'greet' completed.\n",
            "Starting the execution of 'add' with arguments: (5, 3), {}\n",
            "Execution of 'add' completed.\n",
            "Result of addition: 8\n"
          ]
        }
      ]
    },
    {
      "cell_type": "markdown",
      "source": [
        "Ques 56.Create a decorator that preserves the metadata of the original function."
      ],
      "metadata": {
        "id": "s9rB03d6Dh1u"
      }
    },
    {
      "cell_type": "code",
      "source": [
        "from functools import wraps\n",
        "\n",
        "def preserve_metadata_decorator(func):\n",
        "    \"\"\"Decorator to add messages and preserve metadata.\"\"\"\n",
        "    @wraps(func)\n",
        "    def wrapper(*args, **kwargs):\n",
        "        print(f\"Executing '{func.__name__}'...\")\n",
        "        result = func(*args, **kwargs)\n",
        "        print(f\"Execution of '{func.__name__}' completed.\")\n",
        "        return result\n",
        "    return wrapper\n",
        "\n",
        "# Example usage\n",
        "@preserve_metadata_decorator\n",
        "def greet(name):\n",
        "    \"\"\"Greet a person by their name.\"\"\"\n",
        "    print(f\"Hello, {name}!\")\n",
        "\n",
        "# Call the decorated function\n",
        "greet(\"Alice\")\n",
        "\n",
        "# Check metadata\n",
        "print(\"\\nMetadata of the decorated function:\")\n",
        "print(f\"Function Name: {greet.__name__}\")\n",
        "print(f\"Docstring: {greet.__doc__}\")\n"
      ],
      "metadata": {
        "colab": {
          "base_uri": "https://localhost:8080/"
        },
        "id": "mr-HZgYoDgJh",
        "outputId": "38e3e0f8-72eb-45b3-e3e0-5c03d3b2a6e6"
      },
      "execution_count": 5,
      "outputs": [
        {
          "output_type": "stream",
          "name": "stdout",
          "text": [
            "Executing 'greet'...\n",
            "Hello, Alice!\n",
            "Execution of 'greet' completed.\n",
            "\n",
            "Metadata of the decorated function:\n",
            "Function Name: greet\n",
            "Docstring: Greet a person by their name.\n"
          ]
        }
      ]
    },
    {
      "cell_type": "markdown",
      "source": [
        "Ques 57.Create a Python class `Calculator` with a static method `add` that takes in two numbers and returns their\n",
        "sum."
      ],
      "metadata": {
        "id": "7dLUesE1EPFE"
      }
    },
    {
      "cell_type": "code",
      "source": [
        "class Calculator:\n",
        "    @staticmethod\n",
        "    def add(a, b):\n",
        "        \"\"\"Static method to return the sum of two numbers.\"\"\"\n",
        "        return a + b\n",
        "\n",
        "# Example usage\n",
        "result = Calculator.add(5, 7)\n",
        "print(f\"The sum is: {result}\")\n"
      ],
      "metadata": {
        "colab": {
          "base_uri": "https://localhost:8080/"
        },
        "id": "MdSaadLuEKAU",
        "outputId": "bf259f03-1b0d-4447-ef65-c870383a100e"
      },
      "execution_count": 6,
      "outputs": [
        {
          "output_type": "stream",
          "name": "stdout",
          "text": [
            "The sum is: 12\n"
          ]
        }
      ]
    },
    {
      "cell_type": "markdown",
      "source": [
        "Ques 58.Create a Python class `Employee` with a class `method get_employee_count` that returns the total\n",
        "number of employees created."
      ],
      "metadata": {
        "id": "Jq_Xpz_GEoxg"
      }
    },
    {
      "cell_type": "code",
      "source": [
        "class Employee:\n",
        "    # Class attribute to keep track of employee count\n",
        "    employee_count = 0\n",
        "\n",
        "    def __init__(self, name):\n",
        "        self.name = name\n",
        "        # Increment the count when a new employee is created\n",
        "        Employee.employee_count += 1\n",
        "\n",
        "    @classmethod\n",
        "    def get_employee_count(cls):\n",
        "        \"\"\"Returns the total number of employees created\"\"\"\n",
        "        return cls.employee_count\n",
        "\n",
        "# Example usage\n",
        "e1 = Employee(\"Alice\")\n",
        "e2 = Employee(\"Bob\")\n",
        "e3 = Employee(\"Charlie\")\n",
        "\n",
        "print(\"Total employees:\", Employee.get_employee_count())  # Output: 3\n"
      ],
      "metadata": {
        "colab": {
          "base_uri": "https://localhost:8080/"
        },
        "id": "W6YkpYNUEmRu",
        "outputId": "8b208a1e-8155-40ec-fc89-ec24b84c6981"
      },
      "execution_count": 7,
      "outputs": [
        {
          "output_type": "stream",
          "name": "stdout",
          "text": [
            "Total employees: 3\n"
          ]
        }
      ]
    },
    {
      "cell_type": "markdown",
      "source": [
        "Ques 59.Create a Python class `StringFormatter` with a static method `reverse_string` that takes a string as input\n",
        "and returns its reverse."
      ],
      "metadata": {
        "id": "llw3bIv7FIqa"
      }
    },
    {
      "cell_type": "code",
      "source": [
        "class StringFormatter:\n",
        "    @staticmethod\n",
        "    def reverse_string(input_string):\n",
        "        \"\"\"Returns the reverse of the given string.\"\"\"\n",
        "        return input_string[::-1]\n",
        "\n",
        "# Example usage\n",
        "result = StringFormatter.reverse_string(\"Hello\")\n",
        "print(\"Reversed String:\", result)  # Output: \"olleH\"\n"
      ],
      "metadata": {
        "colab": {
          "base_uri": "https://localhost:8080/"
        },
        "id": "RZj5VZ_iFYzm",
        "outputId": "9f03f204-f8ca-4350-ba9a-7370d8e588b7"
      },
      "execution_count": 8,
      "outputs": [
        {
          "output_type": "stream",
          "name": "stdout",
          "text": [
            "Reversed String: olleH\n"
          ]
        }
      ]
    },
    {
      "cell_type": "markdown",
      "source": [
        "Ques 60.Create a Python class `Circle` with a class method `calculate_area` that calculates the area of a circle\n",
        "given its radius."
      ],
      "metadata": {
        "id": "2lWnlVR5EoB0"
      }
    },
    {
      "cell_type": "code",
      "source": [
        "import math\n",
        "\n",
        "class Circle:\n",
        "    @classmethod\n",
        "    def calculate_area(cls, radius):\n",
        "        \"\"\"Calculates and returns the area of a circle given its radius.\"\"\"\n",
        "        return math.pi * radius ** 2\n",
        "\n",
        "# Example usage\n",
        "radius = 5\n",
        "area = Circle.calculate_area(radius)\n",
        "print(\"Area of the circle:\", area)  # Output: Area of the circle: 78.53981633974483\n"
      ],
      "metadata": {
        "colab": {
          "base_uri": "https://localhost:8080/"
        },
        "id": "UgL46d6bFiRf",
        "outputId": "3a09f710-ac7e-44c1-efa5-dcb3bf0287be"
      },
      "execution_count": 9,
      "outputs": [
        {
          "output_type": "stream",
          "name": "stdout",
          "text": [
            "Area of the circle: 78.53981633974483\n"
          ]
        }
      ]
    },
    {
      "cell_type": "markdown",
      "source": [
        "Ques 61.Create a Python class `TemperatureConverter` with a static method `celsius_to_fahrenheit` that converts Celsius to Fahrenheit."
      ],
      "metadata": {
        "id": "LNzM-uOWF1oG"
      }
    },
    {
      "cell_type": "code",
      "source": [
        "class TemperatureConverter:\n",
        "    @staticmethod\n",
        "    def celsius_to_fahrenheit(celsius):\n",
        "        \"\"\"Converts Celsius to Fahrenheit.\"\"\"\n",
        "        return (celsius * 9/5) + 32\n",
        "\n",
        "# Example usage\n",
        "celsius = 25\n",
        "fahrenheit = TemperatureConverter.celsius_to_fahrenheit(celsius)\n",
        "print(f\"{celsius}°C is equal to {fahrenheit}°F\")  # Output: 25°C is equal to 77.0°F\n"
      ],
      "metadata": {
        "colab": {
          "base_uri": "https://localhost:8080/"
        },
        "id": "K6VbW3-bFy-7",
        "outputId": "dafbe6c1-bb83-4ddd-97ca-76b00438c6a3"
      },
      "execution_count": 10,
      "outputs": [
        {
          "output_type": "stream",
          "name": "stdout",
          "text": [
            "25°C is equal to 77.0°F\n"
          ]
        }
      ]
    },
    {
      "cell_type": "markdown",
      "source": [
        "Ques 62.What is the purpose of the __str__() method in Python classes? Provide an example.\n",
        "\n",
        "* The __str__() method in Python is used to define the string representation of an object. It is called when you use print() or str() on an instance of the class. The purpose of the __str__() method is to provide a human-readable string representation of an object, which is helpful for debugging and logging.\n",
        "# Example:"
      ],
      "metadata": {
        "id": "oHfgkuCtGG_0"
      }
    },
    {
      "cell_type": "code",
      "source": [
        "class Person:\n",
        "    def __init__(self, name, age):\n",
        "        self.name = name\n",
        "        self.age = age\n",
        "\n",
        "    def __str__(self):\n",
        "        return f\"Person(name={self.name}, age={self.age})\"\n",
        "\n",
        "# Example usage\n",
        "person = Person(\"Alice\", 30)\n",
        "print(person)  # Output: Person(name=Alice, age=30)\n"
      ],
      "metadata": {
        "colab": {
          "base_uri": "https://localhost:8080/"
        },
        "id": "1Lsix7GKGF_I",
        "outputId": "cce031be-02a8-44b5-ac62-313834337cf3"
      },
      "execution_count": 11,
      "outputs": [
        {
          "output_type": "stream",
          "name": "stdout",
          "text": [
            "Person(name=Alice, age=30)\n"
          ]
        }
      ]
    },
    {
      "cell_type": "markdown",
      "source": [
        "Ques 63. How does the __len__() method work in Python? Provide an example.\n",
        "\n",
        "\n",
        "The __len__() method in Python is a special method used to define the behavior of the len() function when called on an object. It allows you to specify how the length of an object (such as a custom class) should be calculated. When you use the len() function on an object, Python internally calls the __len__() method of that object.\n",
        "\n",
        "# Example:"
      ],
      "metadata": {
        "id": "J_EPwJ5_G-CV"
      }
    },
    {
      "cell_type": "code",
      "source": [
        "class Box:\n",
        "    def __init__(self, items):\n",
        "        self.items = items  # List of items inside the box\n",
        "\n",
        "    def __len__(self):\n",
        "        return len(self.items)  # Return the number of items in the box\n",
        "\n",
        "# Example usage\n",
        "box = Box([1, 2, 3, 4, 5])\n",
        "print(len(box))  # Output: 5\n"
      ],
      "metadata": {
        "colab": {
          "base_uri": "https://localhost:8080/"
        },
        "id": "0ZlV3Tg6Gv7y",
        "outputId": "913ca9e8-c19c-48ef-fb33-93292f306f30"
      },
      "execution_count": 12,
      "outputs": [
        {
          "output_type": "stream",
          "name": "stdout",
          "text": [
            "5\n"
          ]
        }
      ]
    },
    {
      "cell_type": "markdown",
      "source": [
        "Ques 64. Explain the usage of the __add__() method in Python classes. Provide an example.\n",
        "\n",
        "The __add__() method in Python is a special method that allows you to define how the addition operator (+) works for instances of your custom class. When you use the + operator on objects of the class, Python calls the __add__() method, passing the objects involved as operands.\n",
        "\n",
        "# Example:"
      ],
      "metadata": {
        "id": "0xD4A6ywHiAc"
      }
    },
    {
      "cell_type": "code",
      "source": [
        "class Vector:\n",
        "    def __init__(self, x, y):\n",
        "        self.x = x\n",
        "        self.y = y\n",
        "\n",
        "    def __add__(self, other):\n",
        "        \"\"\"Defines how two Vector objects are added.\"\"\"\n",
        "        if isinstance(other, Vector):\n",
        "            return Vector(self.x + other.x, self.y + other.y)\n",
        "        return NotImplemented\n",
        "\n",
        "    def __str__(self):\n",
        "        return f\"Vector({self.x}, {self.y})\"\n",
        "\n",
        "# Example usage\n",
        "v1 = Vector(2, 3)\n",
        "v2 = Vector(4, 5)\n",
        "\n",
        "result = v1 + v2  # This calls v1.__add__(v2)\n",
        "print(result)  # Output: Vector(6, 8)\n"
      ],
      "metadata": {
        "colab": {
          "base_uri": "https://localhost:8080/"
        },
        "id": "9HLPhHsrHhEN",
        "outputId": "bd76b596-bbda-40ac-aeb2-8d7859a7906f"
      },
      "execution_count": 13,
      "outputs": [
        {
          "output_type": "stream",
          "name": "stdout",
          "text": [
            "Vector(6, 8)\n"
          ]
        }
      ]
    },
    {
      "cell_type": "markdown",
      "source": [
        "Ques 65. What is the purpose of the __getitem__() method in Python? Provide an example.\n",
        "\n",
        "The __getitem__() method in Python is a special method used to define how an object behaves when you use square brackets ([]) to access an element, similar to how you access items in a list, dictionary, or tuple. This method allows you to customize the behavior of indexing for your custom class.\n",
        "\n",
        "# Example:"
      ],
      "metadata": {
        "id": "6po3rrwxIg6b"
      }
    },
    {
      "cell_type": "code",
      "source": [
        "class MyList:\n",
        "    def __init__(self, data):\n",
        "        self.data = data\n",
        "\n",
        "    def __getitem__(self, index):\n",
        "        \"\"\"Return the element at the specified index.\"\"\"\n",
        "        return self.data[index]\n",
        "\n",
        "# Example usage\n",
        "my_list = MyList([10, 20, 30, 40])\n",
        "print(my_list[2])  # Output: 30\n"
      ],
      "metadata": {
        "colab": {
          "base_uri": "https://localhost:8080/"
        },
        "id": "M2mrhw8EICc2",
        "outputId": "d9979a28-a03c-4bd3-feb1-c11896f482c4"
      },
      "execution_count": 14,
      "outputs": [
        {
          "output_type": "stream",
          "name": "stdout",
          "text": [
            "30\n"
          ]
        }
      ]
    },
    {
      "cell_type": "markdown",
      "source": [
        "Ques 66.Explain the usage of the __iter__() and __next__() methods in Python. Provide an example using\n",
        "iterators.\n",
        "\n",
        "In Python, the __iter__() and __next__() methods are used to create iterators. These methods are part of the iterator protocol, which allows objects to be iterated over (e.g., in a for loop) one element at a time.\n",
        "\n",
        "1. __iter__() Method\n",
        "* The __iter__() method is used to return an iterator object. It’s called when you start an iteration over an object, such as when using for item in iterable. The method should return an object that implements the __next__() method.\n",
        "\n",
        "2. __next__() Method\n",
        "* The __next__() method is used to retrieve the next item from the iterator. It returns the next element in the sequence each time it is called. If there are no more items to return, it should raise a StopIteration exception to signal that the iteration is complete.\n",
        "\n",
        "# Example: Creating a Custom Iterator\n",
        "Let’s create a class Reverse that iterates over a given sequence (like a list) in reverse order."
      ],
      "metadata": {
        "id": "OuXWqyodJODc"
      }
    },
    {
      "cell_type": "code",
      "source": [
        "class Reverse:\n",
        "    def __init__(self, data):\n",
        "        self.data = data\n",
        "        self.index = len(data)  # Start with the last index\n",
        "\n",
        "    def __iter__(self):\n",
        "        \"\"\"Return the iterator object itself.\"\"\"\n",
        "        return self\n",
        "\n",
        "    def __next__(self):\n",
        "        \"\"\"Return the next element in reverse order.\"\"\"\n",
        "        if self.index == 0:\n",
        "            raise StopIteration  # No more items to iterate\n",
        "        self.index = self.index - 1\n",
        "        return self.data[self.index]\n",
        "\n",
        "# Example usage\n",
        "rev = Reverse([1, 2, 3, 4, 5])\n",
        "\n",
        "for item in rev:\n",
        "    print(item)\n"
      ],
      "metadata": {
        "colab": {
          "base_uri": "https://localhost:8080/"
        },
        "id": "Xyogzp7YJNdV",
        "outputId": "7b7fa760-24cb-4abe-d35d-b11b786c521b"
      },
      "execution_count": 15,
      "outputs": [
        {
          "output_type": "stream",
          "name": "stdout",
          "text": [
            "5\n",
            "4\n",
            "3\n",
            "2\n",
            "1\n"
          ]
        }
      ]
    },
    {
      "cell_type": "markdown",
      "source": [
        "Ques 67.What is the purpose of a getter method in Python? Provide an example demonstrating the use of a getter method using property decorators.\n",
        "\n",
        "A getter method in Python is used to access an attribute, often with additional logic. The @property decorator makes a method behave like an attribute, allowing controlled access.\n",
        "\n",
        "# Example:"
      ],
      "metadata": {
        "id": "p92vLFvDKar1"
      }
    },
    {
      "cell_type": "code",
      "source": [
        "class Circle:\n",
        "    def __init__(self, radius):\n",
        "        self._radius = radius\n",
        "\n",
        "    @property\n",
        "    def radius(self):\n",
        "        return self._radius\n",
        "\n",
        "    @radius.setter\n",
        "    def radius(self, value):\n",
        "        if value <= 0:\n",
        "            raise ValueError(\"Radius must be positive\")\n",
        "        self._radius = value\n",
        "\n",
        "    @property\n",
        "    def area(self):\n",
        "        return 3.14159 * self._radius ** 2\n",
        "\n",
        "# Example usage\n",
        "circle = Circle(5)\n",
        "print(circle.radius)  # 5\n",
        "print(circle.area)    # 78.53975\n",
        "\n",
        "circle.radius = 10    # Update radius\n",
        "print(circle.radius)  # 10\n",
        "print(circle.area)    # 314.159\n"
      ],
      "metadata": {
        "colab": {
          "base_uri": "https://localhost:8080/"
        },
        "id": "nvl7VDHEKZiP",
        "outputId": "a430b1b4-ce47-4f00-910d-7542b7380efe"
      },
      "execution_count": 16,
      "outputs": [
        {
          "output_type": "stream",
          "name": "stdout",
          "text": [
            "5\n",
            "78.53975\n",
            "10\n",
            "314.159\n"
          ]
        }
      ]
    },
    {
      "cell_type": "markdown",
      "source": [
        "Ques 68. Explain the role of setter methods in Python. Demonstrate how to use a setter method to modify a class\n",
        "attribute using property decorators.\n",
        "\n",
        "\n",
        "In Python, setter methods are used to control how an attribute is modified. The @property_name.setter decorator allows you to set the value of an attribute while adding validation or logic.\n",
        "\n",
        "# Example:"
      ],
      "metadata": {
        "id": "wdW3XDOTLTgJ"
      }
    },
    {
      "cell_type": "code",
      "source": [
        "class Rectangle:\n",
        "    def __init__(self, width, height):\n",
        "        self._width = width\n",
        "        self._height = height\n",
        "\n",
        "    @property\n",
        "    def width(self):\n",
        "        return self._width\n",
        "\n",
        "    @width.setter\n",
        "    def width(self, value):\n",
        "        if value <= 0:\n",
        "            raise ValueError(\"Width must be positive\")\n",
        "        self._width = value\n",
        "\n",
        "    @property\n",
        "    def height(self):\n",
        "        return self._height\n",
        "\n",
        "    @height.setter\n",
        "    def height(self, value):\n",
        "        if value <= 0:\n",
        "            raise ValueError(\"Height must be positive\")\n",
        "        self._height = value\n",
        "\n",
        "    @property\n",
        "    def area(self):\n",
        "        return self._width * self._height\n",
        "\n",
        "# Example usage\n",
        "rect = Rectangle(10, 5)\n",
        "print(rect.area)  # Output: 50\n",
        "\n",
        "rect.width = 15\n",
        "rect.height = 10\n",
        "print(rect.area)  # Output: 150\n"
      ],
      "metadata": {
        "colab": {
          "base_uri": "https://localhost:8080/"
        },
        "id": "Rt-6YtBnLOFB",
        "outputId": "06516797-f03b-4cff-ac9c-8db2286418fb"
      },
      "execution_count": 17,
      "outputs": [
        {
          "output_type": "stream",
          "name": "stdout",
          "text": [
            "50\n",
            "150\n"
          ]
        }
      ]
    },
    {
      "cell_type": "markdown",
      "source": [
        "Ques 69.What is the purpose of the @property decorator in Python? Provide an example illustrating its usage.\n",
        "\n",
        "The @property decorator in Python allows a method to be accessed like an attribute, enabling controlled access to data while hiding the internal logic.\n",
        "\n",
        "# Example:"
      ],
      "metadata": {
        "id": "2UMLaI74MITv"
      }
    },
    {
      "cell_type": "code",
      "source": [
        "class Circle:\n",
        "    def __init__(self, radius):\n",
        "        self._radius = radius\n",
        "\n",
        "    @property\n",
        "    def radius(self):\n",
        "        return self._radius\n",
        "\n",
        "    @radius.setter\n",
        "    def radius(self, value):\n",
        "        if value <= 0:\n",
        "            raise ValueError(\"Radius must be positive\")\n",
        "        self._radius = value\n",
        "\n",
        "    @property\n",
        "    def area(self):\n",
        "        return 3.14159 * self._radius ** 2\n",
        "\n",
        "# Usage\n",
        "circle = Circle(5)\n",
        "print(circle.radius)  # 5\n",
        "print(circle.area)    # 78.53975\n",
        "\n",
        "circle.radius = 10    # Modify radius\n",
        "print(circle.area)    # 314.159\n"
      ],
      "metadata": {
        "colab": {
          "base_uri": "https://localhost:8080/"
        },
        "id": "pnp0X8yLL7Ep",
        "outputId": "11012923-8d8e-49d5-b1f7-698d1cff1c8a"
      },
      "execution_count": 18,
      "outputs": [
        {
          "output_type": "stream",
          "name": "stdout",
          "text": [
            "5\n",
            "78.53975\n",
            "314.159\n"
          ]
        }
      ]
    },
    {
      "cell_type": "markdown",
      "source": [
        "Ques 70. Explain the use of the @deleter decorator in Python property decorators. Provide a code example\n",
        "demonstrating its application.\n",
        "\n",
        "The @deleter decorator in Python is used to define a deleter method for a property, which customizes the behavior when an attribute is deleted using the del statement.\n",
        "\n",
        "# Example:"
      ],
      "metadata": {
        "id": "4zZpoxR7Mv90"
      }
    },
    {
      "cell_type": "code",
      "source": [
        "class Rectangle:\n",
        "    def __init__(self, width, height):\n",
        "        self._width = width\n",
        "        self._height = height\n",
        "\n",
        "    @property\n",
        "    def size(self):\n",
        "        return (self._width, self._height)\n",
        "\n",
        "    @size.deleter\n",
        "    def size(self):\n",
        "        print(\"Deleting the size property\")\n",
        "        del self._width\n",
        "        del self._height\n",
        "\n",
        "# Usage\n",
        "rect = Rectangle(10, 5)\n",
        "print(rect.size)\n",
        "\n",
        "del rect.size  # Calls the deleter method\n"
      ],
      "metadata": {
        "colab": {
          "base_uri": "https://localhost:8080/"
        },
        "id": "z4i0tdAiMuzR",
        "outputId": "e5f55163-f950-4b04-eb00-c94923bdce26"
      },
      "execution_count": 19,
      "outputs": [
        {
          "output_type": "stream",
          "name": "stdout",
          "text": [
            "(10, 5)\n",
            "Deleting the size property\n"
          ]
        }
      ]
    },
    {
      "cell_type": "markdown",
      "source": [
        "Ques 71.How does encapsulation relate to property decorators in Python? Provide an example showcasing\n",
        "encapsulation using property decorators.\n",
        "\n",
        "Encapsulation in Python involves hiding an object's internal state and providing controlled access through public methods. Property decorators (@property, @setter) are used to encapsulate the access to attributes, allowing for validation and logic during attribute retrieval and modification.\n",
        "\n",
        "# Example:\n",
        "\n"
      ],
      "metadata": {
        "id": "4cEfxU4DOEeI"
      }
    },
    {
      "cell_type": "code",
      "source": [
        "class BankAccount:\n",
        "    def __init__(self, owner, balance):\n",
        "        self._owner = owner\n",
        "        self._balance = balance\n",
        "\n",
        "    @property\n",
        "    def balance(self):\n",
        "        return self._balance\n",
        "\n",
        "    @balance.setter\n",
        "    def balance(self, amount):\n",
        "        if amount < 0:\n",
        "            raise ValueError(\"Balance cannot be negative\")\n",
        "        self._balance = amount\n",
        "\n",
        "    @property\n",
        "    def owner(self):\n",
        "        return self._owner\n",
        "\n",
        "    @owner.setter\n",
        "    def owner(self, name):\n",
        "        if not name:\n",
        "            raise ValueError(\"Owner name cannot be empty\")\n",
        "        self._owner = name\n",
        "\n",
        "# Usage\n",
        "account = BankAccount(\"John Doe\", 1000)\n",
        "print(account.balance)  # 1000\n",
        "\n",
        "account.balance = 1500  # Valid update\n",
        "account.owner = \"Jane Smith\"\n",
        "print(account.balance)  # 1500\n",
        "print(account.owner)    # \"Jane Smith\"\n"
      ],
      "metadata": {
        "colab": {
          "base_uri": "https://localhost:8080/"
        },
        "id": "dwuCJeQCN_Bh",
        "outputId": "80f42914-c2e8-40bd-9b3d-1076fd003e5b"
      },
      "execution_count": 20,
      "outputs": [
        {
          "output_type": "stream",
          "name": "stdout",
          "text": [
            "1000\n",
            "1500\n",
            "Jane Smith\n"
          ]
        }
      ]
    },
    {
      "cell_type": "code",
      "source": [],
      "metadata": {
        "id": "nGKxGP5mOza0"
      },
      "execution_count": null,
      "outputs": []
    }
  ]
}